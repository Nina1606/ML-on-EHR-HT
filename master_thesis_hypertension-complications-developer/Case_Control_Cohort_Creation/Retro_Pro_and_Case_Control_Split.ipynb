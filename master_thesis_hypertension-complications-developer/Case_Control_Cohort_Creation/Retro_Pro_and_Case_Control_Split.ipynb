{
 "cells": [
  {
   "cell_type": "code",
   "execution_count": null,
   "metadata": {},
   "outputs": [],
   "source": [
    "#This Notebook is there to split retro and pro cohorts, \n",
    "# to create cases and controls \n",
    "# and to prepare for ML pipeline "
   ]
  },
  {
   "cell_type": "code",
   "execution_count": null,
   "metadata": {},
   "outputs": [],
   "source": [
    "import numpy as np\n",
    "import pandas as pd\n",
    "import sys\n",
    "\n",
    "# Loading needed DataFrames\n",
    "\n",
    "# load Case & Controls Complications MRNS\n",
    "\n",
    "# unique are MRNs that have been diagnosed after HT_onset & for the first time\n",
    "#Controls are the ones that have never had the disease\n",
    "# all together CR= 59.606, Heart = 51.544, Renal = 59.950\n",
    "\n",
    "All3 = pd.read_pickle(\"/home/kiwitn01/master_thesis_hypertension-complications/Cohort_Extraction/Complications/All3_diseases/Cases_all3_cohorts_after_HT_onset.pkl\")\n",
    "All3_Controls = pd.read_pickle(\"/home/kiwitn01/master_thesis_hypertension-complications/Cohort_Extraction/Complications/All3_diseases/Controls_No_all3_cohorts_Disease_Ever.pkl\")\n",
    "\n",
    "Cerebro = pd.read_pickle(\"/home/kiwitn01/master_thesis_hypertension-complications/Cohort_Extraction/Complications/Cerebrovascular_Diseases/Cases_CR_after_HT_onset.pkl\")\n",
    "Cerebro_Controls = pd.read_pickle('/home/kiwitn01/master_thesis_hypertension-complications/Cohort_Extraction/Complications/Cerebrovascular_Diseases/Controls_No_Cerebrovascular_Diseases_Ever.pkl')\n",
    "   \n",
    "Heart = pd.read_pickle(\"/home/kiwitn01/master_thesis_hypertension-complications/Cohort_Extraction/Complications/Heart_Diseases/Cases_heart_disease_after_HT_onset.pkl\")\n",
    "Heart_Controls = pd.read_pickle(\"/home/kiwitn01/master_thesis_hypertension-complications/Cohort_Extraction/Complications/Heart_Diseases/Controls_No_Heart_Diseases_Ever.pkl\")\n",
    "\n",
    "Renal = pd.read_pickle(\"/home/kiwitn01/master_thesis_hypertension-complications/Cohort_Extraction/Complications/Renal_Diseases/Cases_renal_disease_after_HT_onset.pkl\")\n",
    "Renal_Controls = pd.read_pickle(\"/home/kiwitn01/master_thesis_hypertension-complications/Cohort_Extraction/Complications/Renal_Diseases/Controls_No_Renal_Diseases_Ever.pkl\")\n",
    "\n",
    "\n",
    "df_final = pd.read_pickle('/home/kiwitn01/master_thesis_hypertension-complications/Feature Extraction/Clean_Unsupervised_Dataframes/All_unsupervised_merged_clean_Diag_no_int_with_extra_BP.pkl')\n",
    "\n"
   ]
  },
  {
   "cell_type": "code",
   "execution_count": null,
   "metadata": {},
   "outputs": [],
   "source": [
    "def prepare_df_for_split(df_Cases, df_Controls, df_final):\n",
    "    \n",
    "    df_Cases = df_Cases.reset_index('medical_record_number')\n",
    "    df_Cases = df_Cases.sort_values('onset_year',ascending=True).drop_duplicates('medical_record_number', keep = 'first')\n",
    "    df_Cases['Complication'] = '1'\n",
    "    \n",
    "    df_Controls = df_Controls[['HT_onset_year','date_of_birth_actual','age_in_days_HT_onset']]\n",
    "    df_Controls['Complication'] = '0'\n",
    "    df_Controls= df_Controls.reset_index('medical_record_number')\n",
    "    \n",
    "    Cohort = pd.concat([df_Cases, df_Controls], sort=True)\n",
    "    Cohort= Cohort.set_index('medical_record_number')\n",
    "    \n",
    "    Train = Cohort.loc[Cohort['HT_onset_year'] < 2012]\n",
    "    Test = Cohort.loc[Cohort['HT_onset_year'] >= 2012]\n",
    "    \n",
    "    Train['train_test'] = 'train'\n",
    "    Test['train_test'] = 'test'\n",
    "    \n",
    "    Cohort = pd.concat([Train, Test], sort=True )\n",
    "    \n",
    "    df_final = df_final.set_index('medical_record_number')\n",
    "    Cohort_Final = pd.merge(df_final, Cohort, on = 'medical_record_number', how = 'inner')\n",
    "     \n",
    "    return Cohort_Final    \n"
   ]
  },
  {
   "cell_type": "code",
   "execution_count": null,
   "metadata": {},
   "outputs": [],
   "source": [
    "#setting the Cohort that we need\n",
    "\n",
    "df = prepare_df_for_split(Renal,Renal_Controls, df_final)\n",
    "df"
   ]
  },
  {
   "cell_type": "code",
   "execution_count": null,
   "metadata": {},
   "outputs": [],
   "source": [
    "#df.to_csv('Check_ICD_Codes.csv')"
   ]
  },
  {
   "cell_type": "code",
   "execution_count": null,
   "metadata": {},
   "outputs": [],
   "source": [
    "#df.loc[df['Complication'] == '1']\n",
    "#df.loc[df['train_test'] == 'test']\n",
    "#df.loc[df['train_test'] == 'train']\n",
    "\n",
    "df.loc[(df['train_test'] == 'test') & (df['Complication'] == '1')]"
   ]
  },
  {
   "cell_type": "code",
   "execution_count": null,
   "metadata": {},
   "outputs": [],
   "source": [
    "#df.to_pickle('/home/kiwitn01/master_thesis_hypertension-complications/Case_Control_Cohort_Creation/Real_Retro_Pro_Split/Heart_Retro_Pro_Split_with_all_unsupervised_merged_cleaned_features.pkl')\n"
   ]
  },
  {
   "cell_type": "code",
   "execution_count": null,
   "metadata": {},
   "outputs": [],
   "source": [
    "def drop_columns_for_ML_pipeline(df):\n",
    "    \n",
    "    df = df.drop(columns=['HT_onset_year','age_in_days', 'age_in_days_HT_onset', 'age_in_days_delta',\n",
    "                 'context_diagnosis_code', 'context_name', 'date_of_birth_actual', 'onset_year'])\n",
    "    df = df.reset_index('medical_record_number')\n",
    "    return df"
   ]
  },
  {
   "cell_type": "code",
   "execution_count": null,
   "metadata": {},
   "outputs": [],
   "source": [
    "df = drop_columns_for_ML_pipeline(df)\n",
    "df"
   ]
  },
  {
   "cell_type": "code",
   "execution_count": null,
   "metadata": {},
   "outputs": [],
   "source": [
    "for col in df:\n",
    "    print (col)"
   ]
  },
  {
   "cell_type": "code",
   "execution_count": null,
   "metadata": {},
   "outputs": [],
   "source": [
    "df.to_pickle('/home/kiwitn01/master_thesis_hypertension-complications/Case_Control_Cohort_Creation/For_ML_Pipeline/Split_2012/Without_demographic_data/with_extra_BP/Renal_with_extra_BP.pkl')\n",
    "\n"
   ]
  },
  {
   "cell_type": "code",
   "execution_count": null,
   "metadata": {},
   "outputs": [],
   "source": []
  }
 ],
 "metadata": {
  "kernelspec": {
   "display_name": "Python 3",
   "language": "python",
   "name": "python3"
  },
  "language_info": {
   "codemirror_mode": {
    "name": "ipython",
    "version": 3
   },
   "file_extension": ".py",
   "mimetype": "text/x-python",
   "name": "python",
   "nbconvert_exporter": "python",
   "pygments_lexer": "ipython3",
   "version": "3.7.5"
  }
 },
 "nbformat": 4,
 "nbformat_minor": 2
}
