{
 "cells": [
  {
   "cell_type": "code",
   "execution_count": null,
   "metadata": {},
   "outputs": [],
   "source": [
    "import pandas as pd\n",
    "import pyarrow.parquet as pq"
   ]
  },
  {
   "cell_type": "code",
   "execution_count": null,
   "metadata": {},
   "outputs": [],
   "source": [
    "#take any of the unsupervised feature extraction pkls as they all have the 61k cohort \n",
    "Entire_Cohort = pq.read_table('/home/kiwitn01/master_thesis_hypertension-complications/Feature Extraction/Parquets/Cases/Consolidated/with_0.05_threshold/Diagnosis_Cases_Unsupervised_All.parquet').to_pandas()\n"
   ]
  },
  {
   "cell_type": "code",
   "execution_count": null,
   "metadata": {},
   "outputs": [],
   "source": [
    "Entire_Cohort = Entire_Cohort.reset_index('medical_record_number')"
   ]
  },
  {
   "cell_type": "code",
   "execution_count": null,
   "metadata": {},
   "outputs": [],
   "source": [
    "Entire_Cohort.loc[Entire_Cohort['medical_record_number'] == '1000259761']"
   ]
  },
  {
   "cell_type": "code",
   "execution_count": null,
   "metadata": {},
   "outputs": [],
   "source": [
    "demographic_data = Entire_Cohort[['age_in_days', 'gender', 'race', 'marital_status_code']]\n"
   ]
  },
  {
   "cell_type": "code",
   "execution_count": null,
   "metadata": {},
   "outputs": [],
   "source": [
    "demographic_data = demographic_data.reset_index('medical_record_number')\n",
    "\n",
    "demographic_data.loc[demographic_data['medical_record_number'] == '1000000506']"
   ]
  },
  {
   "cell_type": "code",
   "execution_count": null,
   "metadata": {},
   "outputs": [],
   "source": [
    "#read the ML Pipeline files in\n",
    "\n",
    "All3 = pd.read_pickle('/home/kiwitn01/master_thesis_hypertension-complications/Case_Control_Cohort_Creation/For_ML_Pipeline/Split_2012/Without_demographic_data/with_extra_BP/All3_with_extra_BP.pkl')\n",
    "Cerebro = pd.read_pickle('/home/kiwitn01/master_thesis_hypertension-complications/Case_Control_Cohort_Creation/For_ML_Pipeline/Split_2012/Without_demographic_data/with_extra_BP/Cerebro_with_extra_BP.pkl')\n",
    "Heart = pd.read_pickle('/home/kiwitn01/master_thesis_hypertension-complications/Case_Control_Cohort_Creation/For_ML_Pipeline/Split_2012/Without_demographic_data/with_extra_BP/Heart_with_extra_BP.pkl')\n",
    "Renal = pd.read_pickle('/home/kiwitn01/master_thesis_hypertension-complications/Case_Control_Cohort_Creation/For_ML_Pipeline/Split_2012/Without_demographic_data/with_extra_BP/Renal_with_extra_BP.pkl')\n"
   ]
  },
  {
   "cell_type": "code",
   "execution_count": null,
   "metadata": {},
   "outputs": [],
   "source": [
    "#preparing for only extra BP data\n",
    "\n",
    "def only_extra_BP(cohort):\n",
    "    \n",
    "    cohort = cohort.set_index('medical_record_number')\n",
    "    cohort_withBP_BP= cohort.loc[:, cohort.columns.str.contains(\"extra\")]\n",
    "    cohort_Complication = cohort.loc[:, cohort.columns.str.contains(\"Complication\")]\n",
    "    cohort_train_test = cohort.loc[:, cohort.columns.str.contains(\"train_test\")]\n",
    "\n",
    "    Merge_1 = pd.merge(cohort_Complication,cohort_train_test, how = 'inner', on = 'medical_record_number' )\n",
    "    Merge_2 = pd.merge(Merge_1,cohort_withBP_BP,how = 'inner', on = 'medical_record_number')\n",
    "    Merge_2 = Merge_2.reset_index('medical_record_number')\n",
    "    return Merge_2\n"
   ]
  },
  {
   "cell_type": "code",
   "execution_count": null,
   "metadata": {},
   "outputs": [],
   "source": [
    "extraBP_final = only_extra_BP(Renal)\n",
    "extraBP_final"
   ]
  },
  {
   "cell_type": "code",
   "execution_count": null,
   "metadata": {},
   "outputs": [],
   "source": [
    "extraBP_final.to_pickle('/home/kiwitn01/master_thesis_hypertension-complications/Case_Control_Cohort_Creation/For_ML_Pipeline/Split_2012/Only_extra_BP/Renal_extra_BP.pkl')\n"
   ]
  },
  {
   "cell_type": "code",
   "execution_count": null,
   "metadata": {},
   "outputs": [],
   "source": []
  },
  {
   "cell_type": "code",
   "execution_count": null,
   "metadata": {},
   "outputs": [],
   "source": []
  },
  {
   "cell_type": "code",
   "execution_count": null,
   "metadata": {},
   "outputs": [],
   "source": [
    "def merge_demoprahic_data(demographic_data, complication_cohort):\n",
    "    \n",
    "    #demographic_data = demographic_data.reset_index('medical_record_number')\n",
    "    Merged_with_demographic_data = complication_cohort.merge(demographic_data, on ='medical_record_number', how='inner', indicator=False)\n",
    "    \n",
    "    return Merged_with_demographic_data "
   ]
  },
  {
   "cell_type": "code",
   "execution_count": null,
   "metadata": {},
   "outputs": [],
   "source": [
    "df = merge_demoprahic_data(demographic_data, Heart)\n",
    "df"
   ]
  },
  {
   "cell_type": "code",
   "execution_count": null,
   "metadata": {},
   "outputs": [],
   "source": [
    "#df.to_pickle('/home/kiwitn01/master_thesis_hypertension-complications/Case_Control_Cohort_Creation/For_ML_Pipeline/Split_2012/with_extra_BP_and_demographic_data/Heart_ML_pipeline_final.pkl')\n"
   ]
  },
  {
   "cell_type": "code",
   "execution_count": null,
   "metadata": {},
   "outputs": [],
   "source": []
  }
 ],
 "metadata": {
  "kernelspec": {
   "display_name": "Python 3",
   "language": "python",
   "name": "python3"
  },
  "language_info": {
   "codemirror_mode": {
    "name": "ipython",
    "version": 3
   },
   "file_extension": ".py",
   "mimetype": "text/x-python",
   "name": "python",
   "nbconvert_exporter": "python",
   "pygments_lexer": "ipython3",
   "version": "3.7.5"
  }
 },
 "nbformat": 4,
 "nbformat_minor": 2
}
