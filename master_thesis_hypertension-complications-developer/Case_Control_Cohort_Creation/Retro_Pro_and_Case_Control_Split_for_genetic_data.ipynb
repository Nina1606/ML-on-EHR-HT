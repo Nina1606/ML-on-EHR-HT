{
 "cells": [
  {
   "cell_type": "code",
   "execution_count": null,
   "metadata": {},
   "outputs": [],
   "source": [
    "#This Notebook is there to split retro and pro cohorts, \n",
    "# to create cases and controls \n",
    "# and to prepare for ML pipeline "
   ]
  },
  {
   "cell_type": "code",
   "execution_count": null,
   "metadata": {},
   "outputs": [],
   "source": [
    "import numpy as np\n",
    "import pandas as pd\n",
    "import sys\n",
    "\n",
    "# Loading needed DataFrames\n",
    "\n",
    "# load Case & Controls Complications MRNS\n",
    "\n",
    "# unique are MRNs that have been diagnosed after HT_onset & for the first time\n",
    "#Controls are the ones that have never had the disease\n",
    "# all together CR= 59.606, Heart = 51.544, Renal = 59.950\n",
    "\n",
    "All3_training = pd.read_pickle(\"/home/kiwitn01/master_thesis_hypertension-complications/MRN_match/MRN_merged/All3_merged_training.pkl\")\n",
    "All3_test= pd.read_pickle(\"/home/kiwitn01/master_thesis_hypertension-complications/MRN_match/MRN_merged/All3_merged_test.pkl\")\n",
    "\n",
    "Cerebro_training = pd.read_pickle(\"/home/kiwitn01/master_thesis_hypertension-complications/MRN_match/MRN_merged/Cerebro_merged_training.pkl\")\n",
    "Cerebro_test= pd.read_pickle(\"/home/kiwitn01/master_thesis_hypertension-complications/MRN_match/MRN_merged/Cerebro_merged_test.pkl\")\n",
    "\n",
    "Heart_training = pd.read_pickle(\"/home/kiwitn01/master_thesis_hypertension-complications/MRN_match/MRN_merged/Heart_merged_training.pkl\")\n",
    "Heart_test= pd.read_pickle(\"/home/kiwitn01/master_thesis_hypertension-complications/MRN_match/MRN_merged/Heart_merged_test.pkl\")\n",
    "\n",
    "Renal_training = pd.read_pickle(\"/home/kiwitn01/master_thesis_hypertension-complications/MRN_match/MRN_merged/Renal_merged_training.pkl\")\n",
    "Renal_test= pd.read_pickle(\"/home/kiwitn01/master_thesis_hypertension-complications/MRN_match/MRN_merged/Renal_merged_test.pkl\")\n",
    "\n",
    "All3_training = All3_training[['medical_record_number']]\n",
    "All3_test = All3_test[['medical_record_number']]\n",
    "\n",
    "Cerebro_training = Cerebro_training[['medical_record_number']]\n",
    "Cerebro_test = Cerebro_test[['medical_record_number']]\n",
    "\n",
    "Heart_training = Heart_training[['medical_record_number']]\n",
    "Heart_test = Heart_test[['medical_record_number']]\n",
    "\n",
    "Renal_training = Renal_training[['medical_record_number']]\n",
    "Renal_test = Renal_test[['medical_record_number']]\n",
    "\n",
    "All3_intersection = pd.concat([All3_training,All3_test])\n",
    "Cerebro_intersection = pd.concat([Cerebro_training,Cerebro_test])\n",
    "Heart_intersection = pd.concat([Heart_training,Heart_test])\n",
    "Renal_intersection = pd.concat([Renal_training,Renal_test])\n",
    "\n",
    "All3_intersection['medical_record_number']=All3_intersection['medical_record_number'].astype(str)\n",
    "Cerebro_intersection['medical_record_number']=Cerebro_intersection['medical_record_number'].astype(str)\n",
    "Heart_intersection['medical_record_number']=Heart_intersection['medical_record_number'].astype(str)\n",
    "Renal_intersection['medical_record_number']=Renal_intersection['medical_record_number'].astype(str)"
   ]
  },
  {
   "cell_type": "code",
   "execution_count": null,
   "metadata": {},
   "outputs": [],
   "source": [
    "import numpy as np\n",
    "import pandas as pd\n",
    "import sys\n",
    "\n",
    "# Loading needed DataFrames\n",
    "\n",
    "# load Case & Controls Complications MRNS\n",
    "\n",
    "# unique are MRNs that have been diagnosed after HT_onset & for the first time\n",
    "#Controls are the ones that have never had the disease\n",
    "# all together CR= 59.606, Heart = 51.544, Renal = 59.950\n",
    "\n",
    "All3 = pd.read_pickle(\"/home/kiwitn01/master_thesis_hypertension-complications/Cohort_Extraction/Complications/All3_diseases/Cases_all3_cohorts_after_HT_onset.pkl\")\n",
    "All3_Controls = pd.read_pickle(\"/home/kiwitn01/master_thesis_hypertension-complications/Cohort_Extraction/Complications/All3_diseases/Controls_No_all3_cohorts_Disease_Ever.pkl\")\n",
    "\n",
    "Cerebro = pd.read_pickle(\"/home/kiwitn01/master_thesis_hypertension-complications/Cohort_Extraction/Complications/Cerebrovascular_Diseases/Cases_CR_after_HT_onset.pkl\")\n",
    "Cerebro_Controls = pd.read_pickle('/home/kiwitn01/master_thesis_hypertension-complications/Cohort_Extraction/Complications/Cerebrovascular_Diseases/Controls_No_Cerebrovascular_Diseases_Ever.pkl')\n",
    "   \n",
    "Heart = pd.read_pickle(\"/home/kiwitn01/master_thesis_hypertension-complications/Cohort_Extraction/Complications/Heart_Diseases/Cases_heart_disease_after_HT_onset.pkl\")\n",
    "Heart_Controls = pd.read_pickle(\"/home/kiwitn01/master_thesis_hypertension-complications/Cohort_Extraction/Complications/Heart_Diseases/Controls_No_Heart_Diseases_Ever.pkl\")\n",
    "\n",
    "Renal = pd.read_pickle(\"/home/kiwitn01/master_thesis_hypertension-complications/Cohort_Extraction/Complications/Renal_Diseases/Cases_renal_disease_after_HT_onset.pkl\")\n",
    "Renal_Controls = pd.read_pickle(\"/home/kiwitn01/master_thesis_hypertension-complications/Cohort_Extraction/Complications/Renal_Diseases/Controls_No_Renal_Diseases_Ever.pkl\")\n",
    "\n",
    "\n",
    "df_final = pd.read_pickle('/home/kiwitn01/master_thesis_hypertension-complications/Feature Extraction/Clean_Unsupervised_Dataframes/All_unsupervised_merged_clean_Diag_no_int_with_extra_BP.pkl')\n",
    "\n"
   ]
  },
  {
   "cell_type": "code",
   "execution_count": null,
   "metadata": {},
   "outputs": [],
   "source": [
    "def prepare_df_for_split(df_Cases, df_Controls, df_final):\n",
    "    \n",
    "    df_Cases = df_Cases.reset_index('medical_record_number')\n",
    "    df_Cases = df_Cases.sort_values('onset_year',ascending=True).drop_duplicates('medical_record_number', keep = 'first')\n",
    "    df_Cases['Complication'] = '1'\n",
    "    \n",
    "    df_Controls = df_Controls[['HT_onset_year','date_of_birth_actual','age_in_days_HT_onset']]\n",
    "    df_Controls['Complication'] = '0'\n",
    "    df_Controls= df_Controls.reset_index('medical_record_number')\n",
    "    \n",
    "    Cohort = pd.concat([df_Cases, df_Controls], sort=True)\n",
    "    Cohort= Cohort.set_index('medical_record_number')\n",
    "    \n",
    "    Train = Cohort.loc[Cohort['HT_onset_year'] < 2009]\n",
    "    Test = Cohort.loc[Cohort['HT_onset_year'] >= 2009]\n",
    "    \n",
    "    Train['train_test'] = 'train'\n",
    "    Test['train_test'] = 'test'\n",
    "    \n",
    "    Cohort = pd.concat([Train, Test], sort=True )\n",
    "    \n",
    "    df_final = df_final.set_index('medical_record_number')\n",
    "    Cohort_Final = pd.merge(df_final, Cohort, on = 'medical_record_number', how = 'inner')\n",
    "     \n",
    "    return Cohort_Final    \n"
   ]
  },
  {
   "cell_type": "code",
   "execution_count": null,
   "metadata": {},
   "outputs": [],
   "source": [
    "#setting the Cohort that we need\n",
    "\n",
    "df_All3 = prepare_df_for_split(All3,All3_Controls, df_final)\n",
    "df_Cerebro = prepare_df_for_split(Cerebro,Cerebro_Controls, df_final)\n",
    "df_Heart = prepare_df_for_split(Heart,Heart_Controls, df_final)\n",
    "df_Renal = prepare_df_for_split(Renal,Renal_Controls, df_final)"
   ]
  },
  {
   "cell_type": "code",
   "execution_count": null,
   "metadata": {},
   "outputs": [],
   "source": [
    "df_All3 = df_All3.reset_index('medical_record_number')\n",
    "df_Cerebro = df_Cerebro.reset_index('medical_record_number')\n",
    "df_Heart = df_Heart.reset_index('medical_record_number')\n",
    "df_Renal = df_Renal.reset_index('medical_record_number')"
   ]
  },
  {
   "cell_type": "code",
   "execution_count": null,
   "metadata": {},
   "outputs": [],
   "source": [
    "df_All3"
   ]
  },
  {
   "cell_type": "code",
   "execution_count": null,
   "metadata": {},
   "outputs": [],
   "source": [
    "df_merged_All3 = pd.merge(df_All3, All3_intersection, on = 'medical_record_number', how = 'inner')\n",
    "df_merged_Cerebro = pd.merge(df_Cerebro, Cerebro_intersection, on = 'medical_record_number', how = 'inner')\n",
    "df_merged_Heart = pd.merge(df_Heart, Heart_intersection, on = 'medical_record_number', how = 'inner')\n",
    "df_merged_Renal = pd.merge(df_Renal, Renal_intersection, on = 'medical_record_number', how = 'inner')\n"
   ]
  },
  {
   "cell_type": "code",
   "execution_count": null,
   "metadata": {},
   "outputs": [],
   "source": [
    "df_merged_All3.to_pickle('/home/kiwitn01/master_thesis_hypertension-complications/Case_Control_Cohort_Creation/For_ML_Pipeline/Split_2009_for_genetic/All3.pkl')\n",
    "df_merged_Cerebro.to_pickle('/home/kiwitn01/master_thesis_hypertension-complications/Case_Control_Cohort_Creation/For_ML_Pipeline/Split_2009_for_genetic/Cerebro.pkl')\n",
    "df_merged_Heart.to_pickle('/home/kiwitn01/master_thesis_hypertension-complications/Case_Control_Cohort_Creation/For_ML_Pipeline/Split_2009_for_genetic/Heart.pkl')\n",
    "df_merged_Renal.to_pickle('/home/kiwitn01/master_thesis_hypertension-complications/Case_Control_Cohort_Creation/For_ML_Pipeline/Split_2009_for_genetic/Renal.pkl')\n"
   ]
  },
  {
   "cell_type": "code",
   "execution_count": null,
   "metadata": {},
   "outputs": [],
   "source": [
    "df_merged_Renal.loc[(df_merged_Renal['train_test'] == 'train') & (df_merged_Renal['Complication'] == '0')]\n",
    "#df_merged.loc[df_merged['train_test'] == 'test']"
   ]
  },
  {
   "cell_type": "code",
   "execution_count": null,
   "metadata": {},
   "outputs": [],
   "source": []
  }
 ],
 "metadata": {
  "kernelspec": {
   "display_name": "Python 3",
   "language": "python",
   "name": "python3"
  },
  "language_info": {
   "codemirror_mode": {
    "name": "ipython",
    "version": 3
   },
   "file_extension": ".py",
   "mimetype": "text/x-python",
   "name": "python",
   "nbconvert_exporter": "python",
   "pygments_lexer": "ipython3",
   "version": "3.7.5"
  }
 },
 "nbformat": 4,
 "nbformat_minor": 2
}
