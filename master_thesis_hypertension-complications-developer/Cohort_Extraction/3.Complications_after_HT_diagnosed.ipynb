{
 "cells": [
  {
   "cell_type": "code",
   "execution_count": null,
   "metadata": {},
   "outputs": [],
   "source": [
    "import pandas as pd\n",
    "import pyarrow.parquet as pq\n",
    "import numpy as np\n",
    "import os\n",
    "from functools import reduce \n",
    "import pickle"
   ]
  },
  {
   "cell_type": "code",
   "execution_count": null,
   "metadata": {},
   "outputs": [],
   "source": [
    "#Load Dataframe of \n",
    "\n",
    "All_Disease_Cases = pd.read_pickle('/home/kiwitn01/master_thesis_hypertension-complications/Cohort_Extraction/Complications/All3_diseases/All/Cases_HT_all3_cohorts_all.pkl')\n",
    "#All_Disease_Cases = pd.read_pickle('/home/kiwitn01/master_thesis_hypertension-complications/Cohort_Extraction/Complications/Cerebrovascular_Diseases/All/Cases_HT_CR_all.pkl')\n",
    "#All_Disease_Cases = pd.read_pickle('/home/kiwitn01/master_thesis_hypertension-complications/Cohort_Extraction/Complications/Heart_Diseases/All/Cases_HT_heart_disease_all.pkl')\n",
    "#All_Disease_Cases = pd.read_pickle('/home/kiwitn01/master_thesis_hypertension-complications/Cohort_Extraction/Complications/Renal_Diseases/All/Cases_HT_renal_disease_all.pkl')\n",
    "\n",
    "###\n",
    "#All_Disease_Cases = pd.read_pickle('Complications/CR_And_Heart/All/Cases_HT_CR_AND_Heart_all.pkl')\n",
    "#old Cohorts\n",
    "    #All_Disease_Cases = pd.read_pickle('Complications/Arterial_Diseases/Cases_HT_arterial_disease_all.pkl')\n",
    "    #All_Disease_Cases = pd.read_pickle('Complications/Dementia/Cases_HT_dementia_all.pkl')\n",
    "    #All_Disease_Cases = pd.read_pickle('Complications/Hypertensive_Diseases/Cases_HT_hypertensive_disease_all.pkl')\n"
   ]
  },
  {
   "cell_type": "code",
   "execution_count": null,
   "metadata": {},
   "outputs": [],
   "source": [
    "All_Disease_Cases.head()"
   ]
  },
  {
   "cell_type": "code",
   "execution_count": null,
   "metadata": {},
   "outputs": [],
   "source": [
    "#Disease cases before HT_Onset \n",
    "Disease_Cases_before_HT_onset = All_Disease_Cases.loc[All_Disease_Cases['age_in_days_HT_onset'] >= All_Disease_Cases['age_in_days']]\n",
    "\n",
    "#save unique mrns for those candidates that had disease before HT_onset\n",
    "Disease_Cases_before_HT_onset_unique= Disease_Cases_before_HT_onset.groupby(\"medical_record_number\").count()\n",
    "\n",
    "### NEWLY diagnosed - First time disease only cases that have been NEWLY diagnosed with disease after HT_Onset\n",
    "#index those MRNs that have been diagnosed with the disease already before their HT_onset and drop MRNs from entire disease set\n",
    "\n",
    "indexNames= Disease_Cases_before_HT_onset_unique.index\n",
    "All_Disease_Cases.drop(indexNames,inplace = True)\n",
    "\n",
    "#rename cohort\n",
    "Disease_Cases_after_HT_onset = All_Disease_Cases\n",
    "\n",
    "#identify unique mrns that have been diagnosed for the first time with that disease and after their HT_Onset\n",
    "Disease_Cases_after_HT_onset_unique = Disease_Cases_after_HT_onset.groupby(\"medical_record_number\").count()\n",
    "\n"
   ]
  },
  {
   "cell_type": "code",
   "execution_count": null,
   "metadata": {},
   "outputs": [],
   "source": [
    "Disease_Cases_before_HT_onset_unique"
   ]
  },
  {
   "cell_type": "code",
   "execution_count": null,
   "metadata": {},
   "outputs": [],
   "source": [
    "Disease_Cases_after_HT_onset"
   ]
  },
  {
   "cell_type": "code",
   "execution_count": null,
   "metadata": {},
   "outputs": [],
   "source": [
    "Disease_Cases_after_HT_onset.loc[Disease_Cases_after_HT_onset['age_in_days_HT_onset'] >= Disease_Cases_after_HT_onset['age_in_days']]"
   ]
  },
  {
   "cell_type": "code",
   "execution_count": null,
   "metadata": {},
   "outputs": [],
   "source": [
    "Disease_Cases_after_HT_onset_unique"
   ]
  },
  {
   "cell_type": "code",
   "execution_count": null,
   "metadata": {},
   "outputs": [],
   "source": [
    "#save as pickle files\n",
    "#Disease_Cases_after_HT_onset.to_pickle(\"/home/kiwitn01/master_thesis_hypertension-complications/Cohort_Extraction/Complications/Renal_Diseases/Cases_renal_disease_after_HT_onset.pkl\")\n",
    "#Disease_Cases_after_HT_onset_unique.to_pickle(\"/home/kiwitn01/master_thesis_hypertension-complications/Cohort_Extraction/Complications/Renal_Diseases/Cases_renal_disease_after_HT_onset_unique.pkl\")\n"
   ]
  },
  {
   "cell_type": "code",
   "execution_count": null,
   "metadata": {},
   "outputs": [],
   "source": []
  },
  {
   "cell_type": "code",
   "execution_count": null,
   "metadata": {},
   "outputs": [],
   "source": []
  },
  {
   "cell_type": "code",
   "execution_count": null,
   "metadata": {},
   "outputs": [],
   "source": []
  }
 ],
 "metadata": {
  "kernelspec": {
   "display_name": "Python 3",
   "language": "python",
   "name": "python3"
  },
  "language_info": {
   "codemirror_mode": {
    "name": "ipython",
    "version": 3
   },
   "file_extension": ".py",
   "mimetype": "text/x-python",
   "name": "python",
   "nbconvert_exporter": "python",
   "pygments_lexer": "ipython3",
   "version": "3.7.5"
  }
 },
 "nbformat": 4,
 "nbformat_minor": 2
}
