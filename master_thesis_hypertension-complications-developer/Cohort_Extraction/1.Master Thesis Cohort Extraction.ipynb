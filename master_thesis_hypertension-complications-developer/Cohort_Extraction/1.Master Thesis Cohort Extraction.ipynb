{
 "cells": [
  {
   "cell_type": "code",
   "execution_count": null,
   "metadata": {},
   "outputs": [],
   "source": [
    "import fiber\n",
    "from fiber.cohort import Cohort\n",
    "from fiber.condition import Patient, MRNs\n",
    "from fiber.condition import Diagnosis\n",
    "from fiber.condition import Measurement, Encounter, Drug\n",
    "from fiber.storage import yaml as fiberyaml\n",
    "import pandas as pd\n",
    "import pyarrow.parquet as pq\n",
    "import numpy as np\n",
    "import os\n",
    "from functools import reduce \n",
    "from fiber.utils import Timer\n",
    "import pickle"
   ]
  },
  {
   "cell_type": "code",
   "execution_count": null,
   "metadata": {},
   "outputs": [],
   "source": [
    "#load Cohorts\n",
    "Entire_Cohort_678k= pq.read_table('Merged_Cases_Controls_180.parquet').to_pandas()\n",
    "Entire_Cohort_678k = Entire_Cohort_678k.reindex(sorted(Entire_Cohort_678k.columns), axis=1)\n",
    "Entire_Cohort_678k.set_index('medical_record_number', inplace = True)"
   ]
  },
  {
   "cell_type": "code",
   "execution_count": null,
   "metadata": {},
   "outputs": [],
   "source": [
    "for col in Entire_Cohort_678k:\n",
    "    print (col)"
   ]
  },
  {
   "cell_type": "code",
   "execution_count": null,
   "metadata": {},
   "outputs": [],
   "source": [
    "#check for old cases (131k) and controls(547k) \n",
    "Entire_Cohort_678k.loc[Entire_Cohort_678k['HT']== '1']"
   ]
  },
  {
   "cell_type": "code",
   "execution_count": null,
   "metadata": {},
   "outputs": [],
   "source": [
    "#define only cases for master thesis (only cases with HT)\n",
    "Cases_HT = Entire_Cohort_678k.loc[Entire_Cohort_678k['HT'] == '1']\n",
    "Cases_HT"
   ]
  },
  {
   "cell_type": "code",
   "execution_count": null,
   "metadata": {},
   "outputs": [],
   "source": [
    "for col in Cases_HT:\n",
    "    print (col)"
   ]
  },
  {
   "cell_type": "code",
   "execution_count": null,
   "metadata": {},
   "outputs": [],
   "source": [
    "#Cases_HT= Cases_HT.reset_index('medical_record_number')\n",
    "check = Cases_HT.loc[Cases_HT['medical_record_number'] == '1000000506']\n",
    "check['age_in_days']"
   ]
  },
  {
   "cell_type": "code",
   "execution_count": null,
   "metadata": {},
   "outputs": [],
   "source": [
    "#add onset year\n",
    "def add_onset_year(df_main):\n",
    "    df_main['date_of_birth'] = pd.to_datetime(df_main['date_of_birth'])\n",
    "    df_main['year_of_birth'] = pd.DatetimeIndex(df_main['date_of_birth']).year\n",
    "    df_main['date_of_birth_actual'] = pd.to_datetime(df_main.year_of_birth.astype(str) + '/' + df_main.month_of_birth.astype(str) + '/01')\n",
    "    df_main['age_in_days_delta'] = pd.to_timedelta(df_main['age_in_days'],'d')\n",
    "    df_main['onset_year'] = (df_main['date_of_birth_actual'] + df_main['age_in_days_delta']).dt.year\n",
    "    return df_main"
   ]
  },
  {
   "cell_type": "code",
   "execution_count": null,
   "metadata": {},
   "outputs": [],
   "source": [
    "Cases_Onset= add_onset_year(Cases_HT)\n"
   ]
  },
  {
   "cell_type": "code",
   "execution_count": null,
   "metadata": {},
   "outputs": [],
   "source": [
    "Cases_Onset"
   ]
  },
  {
   "cell_type": "code",
   "execution_count": null,
   "metadata": {},
   "outputs": [],
   "source": [
    "for col in Cases_Onset:\n",
    "    print (col)"
   ]
  },
  {
   "cell_type": "code",
   "execution_count": null,
   "metadata": {},
   "outputs": [],
   "source": [
    "#define cases as HT patients with the onset year before 2013 "
   ]
  },
  {
   "cell_type": "code",
   "execution_count": null,
   "metadata": {},
   "outputs": [],
   "source": [
    "Cases_HT_beforeOnset2013= Cases_Onset.loc[Cases_Onset['onset_year'] <2013]\n",
    "Cases_HT_beforeOnset2013"
   ]
  },
  {
   "cell_type": "code",
   "execution_count": null,
   "metadata": {},
   "outputs": [],
   "source": [
    "Cases_HT_beforeOnset2013.to_pickle(\"./Cases_HT_beforeOnset2013.pkl\")"
   ]
  },
  {
   "cell_type": "code",
   "execution_count": null,
   "metadata": {},
   "outputs": [],
   "source": [
    "#check pkl file\n",
    "unpickled_df = pd.read_pickle(\"./Cases_HT_beforeOnset2013.pkl\")\n",
    "unpickled_df"
   ]
  },
  {
   "cell_type": "code",
   "execution_count": null,
   "metadata": {},
   "outputs": [],
   "source": [
    "#case prediction 2013 - 2018"
   ]
  },
  {
   "cell_type": "code",
   "execution_count": null,
   "metadata": {},
   "outputs": [],
   "source": [
    "Cases_HT_2013_2018 = Cases_Onset.loc[Cases_Onset['onset_year'] >= 2013]\n",
    "Cases_HT_2013_2018"
   ]
  },
  {
   "cell_type": "code",
   "execution_count": null,
   "metadata": {},
   "outputs": [],
   "source": [
    "################"
   ]
  }
 ],
 "metadata": {
  "kernelspec": {
   "display_name": "Python 3",
   "language": "python",
   "name": "python3"
  },
  "language_info": {
   "codemirror_mode": {
    "name": "ipython",
    "version": 3
   },
   "file_extension": ".py",
   "mimetype": "text/x-python",
   "name": "python",
   "nbconvert_exporter": "python",
   "pygments_lexer": "ipython3",
   "version": "3.7.5"
  }
 },
 "nbformat": 4,
 "nbformat_minor": 2
}
