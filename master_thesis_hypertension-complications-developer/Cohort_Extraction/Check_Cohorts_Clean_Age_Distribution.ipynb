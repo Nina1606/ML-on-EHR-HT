{
 "cells": [
  {
   "cell_type": "code",
   "execution_count": null,
   "metadata": {},
   "outputs": [],
   "source": [
    "import pandas as pd\n",
    "import pyarrow.parquet as pq\n",
    "import numpy as np\n",
    "import os\n",
    "import pickle"
   ]
  },
  {
   "cell_type": "code",
   "execution_count": null,
   "metadata": {},
   "outputs": [],
   "source": [
    "# Check on new cohorts\n",
    "Cerebro = pd.read_pickle(\"Complications/Cerebrovascular_Diseases/Cases_CR_after_HT_onset.pkl\")\n",
    "Cerebro_unique = pd.read_pickle(\"Complications/Cerebrovascular_Diseases/Cases_CR_after_HT_onset_unique.pkl\")\n",
    "Cerebro_Controls = pd.read_pickle('Complications/Cerebrovascular_Diseases/Controls_No_Cerebrovascular_Diseases_Ever.pkl')\n",
    "   \n",
    "Heart = pd.read_pickle(\"Complications/Heart_Diseases/Cases_heart_disease_after_HT_onset.pkl\")\n",
    "Heart_unique = pd.read_pickle(\"Complications/Heart_Diseases/Cases_heart_disease_after_HT_onset_unique.pkl\")\n",
    "Heart_Controls = pd.read_pickle(\"Complications/Heart_Diseases/Controls_No_Heart_Diseases_Ever.pkl\")\n",
    "\n",
    "Renal = pd.read_pickle(\"Complications/Renal_Diseases/Cases_renal_disease_after_HT_onset.pkl\")\n",
    "Renal_unique = pd.read_pickle(\"Complications/Renal_Diseases/Cases_renal_disease_after_HT_onset_unique.pkl\")\n",
    "Renal_Controls = pd.read_pickle(\"Complications/Renal_Diseases/Controls_No_Renal_Diseases_Ever.pkl\")\n",
    "\n",
    "All_HT = pd.read_pickle(\"Cases_HT_beforeOnset2013.pkl\")\n",
    "\n",
    "All_Cohorts = pd.read_pickle('Complications/All3_diseases/Cases_all3_cohorts_after_HT_onset.pkl')\n",
    "\n",
    "All3 = pd.read_pickle(\"Complications/All3_diseases/Cases_all3_cohorts_after_HT_onset.pkl\")\n",
    "All3_unique = pd.read_pickle(\"Complications/All3_diseases/Cases_all3_cohorts_after_HT_onset_unique.pkl\")\n",
    "All3_Controls = pd.read_pickle('Complications/All3_diseases/Controls_No_all3_cohorts_Disease_Ever.pkl')\n",
    "\n"
   ]
  },
  {
   "cell_type": "code",
   "execution_count": null,
   "metadata": {},
   "outputs": [],
   "source": [
    "#calculate current age distribution \n",
    "import pandas as pd\n",
    "from datetime import datetime\n",
    "from datetime import date\n",
    "\n",
    "All_HT['date_of_birth_actual']= pd.to_datetime(All_HT['date_of_birth_actual'], errors='coerce')\n",
    "now = pd.to_datetime('now')\n",
    "All_HT_age = (now - All_HT['date_of_birth_actual']).astype('<m8[Y]') \n",
    "All_HT_age = All_HT_age.to_frame() \n",
    "\n",
    "# mean of age distribution (current age)\n",
    "# mean of standard age at HT_onset + SD\n",
    "# amount of female/male patients\n",
    "\n",
    "#current age HT cohort \n",
    "All_HT_age['date_of_birth_actual'].mean()\n",
    "\n",
    "#current age HT cohort + SD\n",
    "All_HT_age['date_of_birth_actual'].std()\n",
    "\n",
    "#age at HT-onset\n",
    "All_HT['age_HT_onset'].mean()\n",
    "\n",
    "#age at HT-onset + SD\n",
    "All_HT['age_HT_onset'].std()\n",
    "\n",
    "# amount of female/male patients\n",
    "All_HT.loc[(All_HT['gender'] != \"Male\") & (All_HT['gender'] != \"Female\")]\n",
    "# female = 33545\n",
    "# male = 27980\n",
    "# + 4 unknown\n"
   ]
  },
  {
   "cell_type": "code",
   "execution_count": null,
   "metadata": {},
   "outputs": [],
   "source": []
  },
  {
   "cell_type": "code",
   "execution_count": null,
   "metadata": {},
   "outputs": [],
   "source": [
    "#calculate current age distribution \n",
    "import pandas as pd\n",
    "from datetime import datetime\n",
    "from datetime import date\n",
    "\n",
    "All_Cohorts['date_of_birth_actual']= pd.to_datetime(All_Cohorts['date_of_birth_actual'], errors='coerce')\n",
    "now = pd.to_datetime('now')\n",
    "All_Cohorts_age = (now - All_Cohorts['date_of_birth_actual']).astype('<m8[Y]') \n",
    "All_Cohorts_age = All_Cohorts_age.to_frame() \n"
   ]
  },
  {
   "cell_type": "code",
   "execution_count": null,
   "metadata": {},
   "outputs": [],
   "source": [
    "# calculate age when complication onset\n",
    "\n",
    "#adding year of birth\n",
    "All_Cohorts['year_of_birth'] = All_Cohorts['date_of_birth_actual'].dt.year\n",
    "\n",
    "#adding age of complication onset\n",
    "All_Cohorts['age_complication_onset'] = (All_Cohorts['onset_year'] - All_Cohorts['year_of_birth'])\n",
    "All_Cohorts_age= All_Cohorts['age_complication_onset'].to_frame()\n"
   ]
  },
  {
   "cell_type": "code",
   "execution_count": null,
   "metadata": {},
   "outputs": [],
   "source": [
    "All_Cohorts= All_Cohorts.sort_values('age_complication_onset')"
   ]
  },
  {
   "cell_type": "code",
   "execution_count": null,
   "metadata": {},
   "outputs": [],
   "source": [
    "All_Cohorts.loc[All_Cohorts['onset_year'] < All_Cohorts['HT_onset_year']]"
   ]
  },
  {
   "cell_type": "code",
   "execution_count": null,
   "metadata": {},
   "outputs": [],
   "source": [
    "All_Cohorts = All_Cohorts.drop(All_Cohorts[(All_Cohorts.onset_year) < (All_Cohorts.year_of_birth)].index)\n"
   ]
  },
  {
   "cell_type": "code",
   "execution_count": null,
   "metadata": {},
   "outputs": [],
   "source": [
    "All_Cohorts = All_Cohorts.reset_index('medical_record_number')\n",
    "All_Cohorts = All_Cohorts.drop_duplicates('medical_record_number',keep='first')\n",
    "All_Cohorts"
   ]
  },
  {
   "cell_type": "code",
   "execution_count": null,
   "metadata": {},
   "outputs": [],
   "source": [
    "#adding age of HT_onset\n",
    "All_Cohorts['age_HT_onset'] = (All_Cohorts['HT_onset_year'] - All_Cohorts['year_of_birth'])\n",
    "#All_Cohorts_age = All_Cohorts['age_HT_onset'].to_frame()\n"
   ]
  },
  {
   "cell_type": "code",
   "execution_count": null,
   "metadata": {},
   "outputs": [],
   "source": [
    "All_Cohorts_age = [['age_complication_onset','age_HT_onset' ]]"
   ]
  },
  {
   "cell_type": "code",
   "execution_count": null,
   "metadata": {},
   "outputs": [],
   "source": [
    "Ages = All_Cohorts.merge(All_Cohorts_age, on = 'medical_record_number', how = 'inner')"
   ]
  },
  {
   "cell_type": "code",
   "execution_count": null,
   "metadata": {},
   "outputs": [],
   "source": [
    "#Check set-Up\n",
    "\n",
    "Checking = All_Cohorts\n",
    "\n",
    "#Checking = All_HT\n",
    "#Checking = Cerebro\n",
    "#Checking = Heart\n",
    "#Checking = Renal"
   ]
  },
  {
   "cell_type": "code",
   "execution_count": null,
   "metadata": {},
   "outputs": [],
   "source": [
    "#check for HT before 2013\n",
    "Checking.loc[Checking['HT_onset_year'] >= 2013]"
   ]
  },
  {
   "cell_type": "code",
   "execution_count": null,
   "metadata": {},
   "outputs": [],
   "source": [
    "# check for disease onset before HT_onset\n",
    "Checking.loc[Checking['age_in_days_HT_onset'] > Checking['age_in_days'] ]"
   ]
  },
  {
   "cell_type": "code",
   "execution_count": null,
   "metadata": {},
   "outputs": [],
   "source": [
    "#calculate current age distribution \n",
    "import pandas as pd\n",
    "from datetime import datetime\n",
    "from datetime import date\n",
    "\n",
    "Checking['date_of_birth_actual']= pd.to_datetime(Checking['date_of_birth_actual'], errors='coerce')\n",
    "now = pd.to_datetime('now')\n",
    "Checking_age_distribution = (now - Checking['date_of_birth_actual']).astype('<m8[Y]') \n",
    "Checking_age_distribution = Checking_age_distribution.to_frame() \n",
    "\n",
    "#mrns to column\n",
    "Checking_age_distribution= Checking_age_distribution.reset_index(level ='medical_record_number')\n",
    "\n",
    "#drop duplicates\n",
    "Checking_age_distribution = Checking_age_distribution.drop_duplicates(subset=['medical_record_number'])\n"
   ]
  },
  {
   "cell_type": "code",
   "execution_count": null,
   "metadata": {},
   "outputs": [],
   "source": [
    "# calculate age when complication onset\n",
    "\n",
    "#adding year of birth\n",
    "Checking['year_of_birth'] = Checking['date_of_birth_actual'].dt.year\n",
    "\n",
    "#adding age of complication onset\n",
    "Checking['age_complication_onset'] = (Checking['onset_year'] - Checking['year_of_birth'])\n",
    "Checking= Checking['age_complication_onset'].to_frame()\n"
   ]
  },
  {
   "cell_type": "code",
   "execution_count": null,
   "metadata": {},
   "outputs": [],
   "source": [
    "Checking.loc[Checking['age_complication_onset'] <0]"
   ]
  },
  {
   "cell_type": "code",
   "execution_count": null,
   "metadata": {},
   "outputs": [],
   "source": [
    "Checking_age_distribution = Checking_age_distribution[['age_complication_onset']]"
   ]
  },
  {
   "cell_type": "code",
   "execution_count": null,
   "metadata": {},
   "outputs": [],
   "source": [
    "import matplotlib.pyplot as plt\n",
    "import numpy as np\n",
    "from matplotlib import colors\n",
    "import matplotlib.pyplot as plt\n",
    "from matplotlib.ticker import StrMethodFormatter\n",
    "\n",
    "ax = Checking_age_distribution.hist(bins=25, grid=False, figsize=(12,8), color='#F4B23B', zorder=2, rwidth=0.9)\n",
    "\n",
    "ax = ax[0]\n",
    "for x in ax:\n",
    "\n",
    "    # Despine\n",
    "    x.spines['right'].set_visible(False)\n",
    "    x.spines['top'].set_visible(False)\n",
    "    x.spines['left'].set_visible(False)\n",
    "\n",
    "    # Switch off ticks\n",
    "    x.tick_params(axis=\"both\", which=\"both\", bottom=\"off\", top=\"off\", labelbottom=\"on\", left=\"off\", right=\"off\", labelleft=\"on\")\n",
    "\n",
    "    # Draw horizontal axis lines\n",
    "    vals = x.get_yticks()\n",
    "    for tick in vals:\n",
    "        x.axhline(y=tick, linestyle='dashed', alpha=0.4, color='#eeeeee', zorder=1)\n",
    "\n",
    "    # Remove title\n",
    "    x.set_title(\"All3 Age Complication Onset\")\n",
    "\n",
    "    # Set x-axis label\n",
    "    x.set_xlabel(\"Age in Years\", labelpad=20, weight='bold', size=12)\n",
    "\n",
    "    # Set y-axis label\n",
    "    x.set_ylabel(\"Number of HT Patients\", labelpad=20, weight='bold', size=12)\n",
    "\n",
    "    # Format y-axis label\n",
    "    x.yaxis.set_major_formatter(StrMethodFormatter('{x:,g}'))\n",
    "    \n",
    "    \n"
   ]
  },
  {
   "cell_type": "code",
   "execution_count": null,
   "metadata": {},
   "outputs": [],
   "source": [
    "# creating new plots with HT_onset_Age included\n",
    "Checking_age_distribution= Checking_age_distribution.set_index('medical_record_number')"
   ]
  },
  {
   "cell_type": "code",
   "execution_count": null,
   "metadata": {},
   "outputs": [],
   "source": [
    "#add HT_onset_age\n",
    "Age_distribution = Checking_age_distribution.merge(All_HT_age, left_index=True, right_index=True, how =\"left\")\n",
    "Age_distribution = Age_distribution.rename(columns={\"date_of_birth_actual\" : \"current_age\"})"
   ]
  },
  {
   "cell_type": "code",
   "execution_count": null,
   "metadata": {},
   "outputs": [],
   "source": [
    "Age_distribution.loc[Age_distribution['age_HT_onset'] <18]"
   ]
  },
  {
   "cell_type": "code",
   "execution_count": null,
   "metadata": {},
   "outputs": [],
   "source": [
    "Age_distribution.loc[Age_distribution['age_complication_onset'] < Age_distribution['age_HT_onset']]"
   ]
  },
  {
   "cell_type": "code",
   "execution_count": null,
   "metadata": {},
   "outputs": [],
   "source": []
  },
  {
   "cell_type": "code",
   "execution_count": null,
   "metadata": {},
   "outputs": [],
   "source": [
    "#plots\n",
    "\n",
    "import matplotlib\n",
    "import matplotlib.mlab as mlab\n",
    "import matplotlib.pyplot as plt\n",
    "\n",
    "df = Age_distribution\n",
    "\n",
    "colors = ['#2E4F69', '#F4B23B'] \n",
    "labels = ['Age Complication Onset','Age HT Onset']\n",
    "\n",
    "matplotlib.pyplot.hist(np.array(df), 25, alpha=0.5, color = colors, label = labels)\n",
    "\n",
    "plt.legend(loc=\"best\")\n",
    "plt.legend(prop ={'size': 10}) \n",
    "\n",
    "plt.xlabel('Age in Years')\n",
    "plt.ylabel('Number of Patients')\n",
    "plt.title('All 3 Cohorts Age Distribution',fontweight =\"bold\")\n",
    "\n",
    "plt.axis([0,100, 0, 4000])\n",
    "plt.grid(True)\n",
    "\n",
    "fig = matplotlib.pyplot.gcf() #gcf = get current figure \n",
    "fig.set_size_inches(18, 10)\n",
    "\n",
    "#fig.savefig('All_3_Cohorts_Age_Complication_and_HT_Onset_Distribution.png', dpi=100)\n"
   ]
  },
  {
   "cell_type": "code",
   "execution_count": null,
   "metadata": {},
   "outputs": [],
   "source": [
    "Checking_age_distribution.loc[Checking_age_distribution['date_of_birth_actual'] <18]"
   ]
  },
  {
   "cell_type": "code",
   "execution_count": null,
   "metadata": {},
   "outputs": [],
   "source": [
    "df"
   ]
  },
  {
   "cell_type": "code",
   "execution_count": null,
   "metadata": {},
   "outputs": [],
   "source": []
  },
  {
   "cell_type": "code",
   "execution_count": null,
   "metadata": {},
   "outputs": [],
   "source": []
  },
  {
   "cell_type": "code",
   "execution_count": null,
   "metadata": {},
   "outputs": [],
   "source": []
  },
  {
   "cell_type": "code",
   "execution_count": null,
   "metadata": {},
   "outputs": [],
   "source": []
  },
  {
   "cell_type": "code",
   "execution_count": null,
   "metadata": {},
   "outputs": [],
   "source": [
    "###Bio Me Bank Mapping ### check with MRNs"
   ]
  },
  {
   "cell_type": "code",
   "execution_count": null,
   "metadata": {},
   "outputs": [],
   "source": [
    "data = pd.read_csv('deid-mrn-mapping.txt', sep= '|' , header=None)\n",
    "data.columns = [\"BioMe_MRNs\", \"EHR_MRNs\"]\n",
    "data = data.drop([0])\n"
   ]
  },
  {
   "cell_type": "code",
   "execution_count": null,
   "metadata": {},
   "outputs": [],
   "source": [
    "data"
   ]
  },
  {
   "cell_type": "code",
   "execution_count": null,
   "metadata": {},
   "outputs": [],
   "source": [
    "Cerebro_unique = Cerebro_unique.reset_index('medical_record_number')\n",
    "Heart_unique = Heart_unique.reset_index('medical_record_number')\n",
    "Renal_unique = Renal_unique.reset_index('medical_record_number')\n",
    "All3_unique = All3_unique.reset_index('medical_record_number')\n",
    "\n",
    "All_HT = All_HT.reset_index('medical_record_number')\n",
    "\n",
    "Cerebro_Controls = Cerebro_Controls.reset_index('medical_record_number')\n",
    "Heart_Controls= Heart_Controls.reset_index('medical_record_number')\n",
    "Renal_Controls = Renal_Controls.reset_index('medical_record_number')\n",
    "All3_Controls = All3_Controls.reset_index('medical_record_number')\n"
   ]
  },
  {
   "cell_type": "code",
   "execution_count": null,
   "metadata": {},
   "outputs": [],
   "source": [
    "All_HT"
   ]
  },
  {
   "cell_type": "code",
   "execution_count": null,
   "metadata": {},
   "outputs": [],
   "source": [
    "All_HT.loc[All_HT['medical_record_number'] == '1684145624']"
   ]
  },
  {
   "cell_type": "code",
   "execution_count": null,
   "metadata": {},
   "outputs": [],
   "source": [
    "Heart_All = pd.read_pickle(\"Complications/Heart_Diseases/All/Cases_HT_heart_disease_all_unique.pkl\")\n",
    "Heart_All = Heart_All.reset_index('medical_record_number')\n",
    "Heart_All"
   ]
  },
  {
   "cell_type": "code",
   "execution_count": null,
   "metadata": {},
   "outputs": [],
   "source": [
    "#check if MRNs are in cohorts\n",
    "\n",
    "def check_MRNs_in_BioMe(data, df):\n",
    "    \n",
    "    Occurs_in_cohort = data.assign(IsInDF=data.EHR_MRNs.isin(df.medical_record_number).astype(int))\n",
    "    Occurs_in_cohort = Occurs_in_cohort.loc[Occurs_in_cohort['IsInDF'] == 1]\n",
    "    \n",
    "    return Occurs_in_cohort\n",
    "    "
   ]
  },
  {
   "cell_type": "code",
   "execution_count": null,
   "metadata": {},
   "outputs": [],
   "source": [
    "df_All3_unique = check_MRNs_in_BioMe(data, All3_unique)\n",
    "df_All3_Controls = check_MRNs_in_BioMe(data, All3_Controls)\n",
    "\n",
    "df_Cerebro_unique = check_MRNs_in_BioMe(data, Cerebro_unique)\n",
    "df_Cerebro_Controls = check_MRNs_in_BioMe(data, Cerebro_Controls)\n",
    "\n",
    "df_Heart_unique = check_MRNs_in_BioMe(data, Heart_unique)\n",
    "df_Heart_Controls = check_MRNs_in_BioMe(data, Heart_Controls)\n",
    "\n",
    "df_Renal_unique = check_MRNs_in_BioMe(data, Renal_unique)\n",
    "df_Renal_Controls = check_MRNs_in_BioMe(data, Renal_Controls)\n"
   ]
  },
  {
   "cell_type": "code",
   "execution_count": null,
   "metadata": {},
   "outputs": [],
   "source": [
    "#df_All3_unique.to_csv('All3_Cases.csv')\n",
    "df_All3_Controls.to_csv('All3_Controls.csv')\n",
    "\n",
    "df_Cerebro_unique.to_csv('Cerebro_Cases.csv')\n",
    "df_Cerebro_Controls.to_csv('Cerebro_Controls.csv')\n",
    "\n",
    "df_Heart_unique.to_csv('Heart_Cases.csv')\n",
    "df_Heart_Controls .to_csv('Heart_Controls.csv')\n",
    "\n",
    "df_Renal_unique.to_csv('Renal_Cases.csv')\n",
    "df_Renal_Controls.to_csv('Renal_Controls.csv')"
   ]
  },
  {
   "cell_type": "code",
   "execution_count": null,
   "metadata": {},
   "outputs": [],
   "source": [
    "## Race/Ethnicity Check ##\n",
    "df_All3_unique"
   ]
  },
  {
   "cell_type": "code",
   "execution_count": null,
   "metadata": {},
   "outputs": [],
   "source": [
    "All_HT.patient_ethnic_group.unique() "
   ]
  },
  {
   "cell_type": "code",
   "execution_count": null,
   "metadata": {},
   "outputs": [],
   "source": [
    "All_HT.race.unique() "
   ]
  },
  {
   "cell_type": "code",
   "execution_count": null,
   "metadata": {},
   "outputs": [],
   "source": [
    "#set the cohort\n",
    "\n",
    "df = df_Cerebro_Controls\n",
    "print (df.shape[0])"
   ]
  },
  {
   "cell_type": "code",
   "execution_count": null,
   "metadata": {},
   "outputs": [],
   "source": [
    "Occurs_in_cohort = All_HT.assign(IsInDF=All_HT.medical_record_number.isin(df.EHR_MRNs).astype(int))\n",
    "Occurs_in_cohort = Occurs_in_cohort.loc[Occurs_in_cohort['IsInDF'] ==1]\n",
    "Occurs_in_cohort\n",
    "\n",
    "df = Occurs_in_cohort\n",
    "\n",
    "# Afrian-American\n",
    "Afrian_American = df[df['race'].isin(['Ba', 'African-American', 'African American (Black)', 'Black Or African-American','Black or African - American'])]\n",
    "#Pacific-Islanders\n",
    "Pacific_Islanders = df[df['race'].isin(['Other Pacific Islander','Pacific Islander','Asian (Pacific Islander)', 'Fijian','Native Hawaiian','Guamanian','Palauan','Carolinian','Iwo Jiman','Polynesian', 'Chuukese','Saipanese'])]\n",
    "#Caribbean\n",
    "Caribbeans = df[df['race'].isin(['Haitian','Dominica Islander','St Vincentian','Jamaican','Grenadian'])]\n",
    "#Asians\n",
    "Asians = df[df['race'].isin(['West Indian','Asian Indian', 'Pakistani', 'Sri Lankan','Filipino', 'Vietnamese','Bangladeshi', 'Laotian', \n",
    "                             'Thai','Hmong', 'Bhutanese', 'Indonesian','Cambodian','Burmese',  'Malaysian','Singaporean',\n",
    "                            'Asian', 'Chinese','Taiwanese', 'Korean', 'Okinawan', 'Japanese'])]\n",
    "#Africans\n",
    "Africans = df[df['race'].isin(['Madagascar','Ethiopian', 'Ugandan','Kenyan', 'Cape Verdian','Ghanaian','Zimbabwean', 'Guinean'])]\n",
    "#Others\n",
    "Others = df[df['race'].isin(['Other', 'B3', 'Bn', 'U', 'Bh','O','Bp', 'Be', 'Bb','B4','B2','B6','Bg','Bz','Bf', 'Bj','Bx','Bf','Pk', 'Br','Pl', 'Ps','B9'])]\n",
    "#White\n",
    "Whites = df[df['race'].isin(['Caucasian (White)', 'White'])]\n",
    "#Hispanic_LATINO\n",
    "Hispanic_LATINOs = df[df['race'].isin(['Hispanic/Latino'])]\n",
    "#Native/Alaskan_Americans:\n",
    "Native_or_Alaskan_Americans = df[df['race'].isin(['American (Indian/Alaskan)', 'Native American'])]\n",
    "#Unknown\n",
    "Unknown = df[df['race'].isin(['MSDW_UNKNOWN', 'Unknown', ''])]"
   ]
  },
  {
   "cell_type": "code",
   "execution_count": null,
   "metadata": {},
   "outputs": [],
   "source": [
    "print (Whites.shape[0])\n",
    "print (Afrian_American.shape[0])\n",
    "print (Others.shape[0])\n",
    "print (Unknown.shape[0])\n",
    "print (Hispanic_LATINOs.shape[0])\n",
    "\n",
    "print ((Pacific_Islanders.shape[0])+(Caribbeans.shape[0])+(Asians.shape[0])+(Africans.shape[0])+ (Native_or_Alaskan_Americans.shape[0]))"
   ]
  },
  {
   "cell_type": "code",
   "execution_count": null,
   "metadata": {},
   "outputs": [],
   "source": []
  }
 ],
 "metadata": {
  "kernelspec": {
   "display_name": "Python 3",
   "language": "python",
   "name": "python3"
  },
  "language_info": {
   "codemirror_mode": {
    "name": "ipython",
    "version": 3
   },
   "file_extension": ".py",
   "mimetype": "text/x-python",
   "name": "python",
   "nbconvert_exporter": "python",
   "pygments_lexer": "ipython3",
   "version": "3.7.5"
  }
 },
 "nbformat": 4,
 "nbformat_minor": 2
}
