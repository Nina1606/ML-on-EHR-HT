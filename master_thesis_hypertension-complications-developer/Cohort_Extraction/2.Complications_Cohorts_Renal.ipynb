{
 "cells": [
  {
   "cell_type": "code",
   "execution_count": null,
   "metadata": {},
   "outputs": [],
   "source": [
    "import fiber\n",
    "from fiber.cohort import Cohort\n",
    "from fiber.condition import Patient, MRNs\n",
    "from fiber.condition import Diagnosis\n",
    "from fiber.condition import Measurement, Encounter, Drug\n",
    "from fiber.storage import yaml as fiberyaml\n",
    "import pandas as pd\n",
    "import pyarrow.parquet as pq\n",
    "import numpy as np\n",
    "import os\n",
    "from functools import reduce \n",
    "from fiber.utils import Timer\n",
    "import pickle"
   ]
  },
  {
   "cell_type": "code",
   "execution_count": null,
   "metadata": {},
   "outputs": [],
   "source": [
    "#Cases with disease development cohort extraction\n",
    "\n",
    "#Load dataframe HT cohort\n",
    "Cases_HT_beforeOnset2013= pd.read_pickle(\"./Cases_HT_beforeOnset2013.pkl\")\n",
    "Cases_HT_beforeOnset2013 = Cases_HT_beforeOnset2013.rename(columns={\"onset_year\": \"HT_onset_year\"})\n",
    "Cases_HT_beforeOnset2013 = Cases_HT_beforeOnset2013.rename(columns={\"age_in_days\": \"age_in_days_HT_onset\"})\n",
    "\n",
    "def df_to_cohort(df):\n",
    "    mrns = list(df.index.values)\n",
    "    condition = MRNs(mrns)\n",
    "    return Cohort(condition)\n",
    "\n",
    "cohort = df_to_cohort(Cases_HT_beforeOnset2013)\n",
    "\n",
    "#renal diseases\n",
    "condition = (Diagnosis('N17.%', 'ICD-10')|\n",
    "              Diagnosis('N18.%', 'ICD-10')|\n",
    "              Diagnosis('N19.%', 'ICD-10')|\n",
    "              Diagnosis('I12.%', 'ICD-10')| #hypertensive kidney\n",
    "              Diagnosis('584.%', 'ICD-9')|\n",
    "              Diagnosis('585.%', 'ICD-9')|\n",
    "              Diagnosis('403.%', 'ICD-9')| #hypertensive kidney\n",
    "              Diagnosis('586.%', 'ICD-9'))\n",
    "  \n",
    "Cases_HT_before2013_disease = cohort.get(condition)\n",
    "\n",
    "Cases_HT_before2013_disease.set_index('medical_record_number', inplace = True)\n",
    "\n",
    "### create new dataframe with only disease MRN and date_of_birth\n",
    "Cases_HT_beforeOnset2013_DOB = Cases_HT_beforeOnset2013[['date_of_birth_actual','HT_onset_year', 'age_in_days_HT_onset']]\n",
    "Cases_HT_before2013_disease_merged_DOB = Cases_HT_before2013_disease.merge(Cases_HT_beforeOnset2013_DOB, left_index=True, right_index=True, how=\"inner\")\n",
    "\n",
    "#add onset year\n",
    "def add_onset_year(df_main):\n",
    "    df_main['age_in_days_delta'] = pd.to_timedelta(df_main['age_in_days'],'d')\n",
    "    df_main['onset_year'] = (df_main['date_of_birth_actual'] + df_main['age_in_days_delta']).dt.year\n",
    "    return df_main\n",
    "\n",
    "Cases_HT_before2013_disease_onset = add_onset_year(Cases_HT_before2013_disease_merged_DOB)\n",
    "Cases_HT_before2013_disease_onset_unique = Cases_HT_before2013_disease_onset.groupby(\"medical_record_number\").count()\n",
    "\n"
   ]
  },
  {
   "cell_type": "code",
   "execution_count": null,
   "metadata": {},
   "outputs": [],
   "source": [
    "Cases_HT_before2013_disease_onset"
   ]
  },
  {
   "cell_type": "code",
   "execution_count": null,
   "metadata": {},
   "outputs": [],
   "source": [
    "Cases_HT_before2013_disease_onset_unique"
   ]
  },
  {
   "cell_type": "code",
   "execution_count": null,
   "metadata": {},
   "outputs": [],
   "source": [
    "#save as pkl files\n",
    "Cases_HT_before2013_disease_onset.to_pickle(\"home/kiwitn01/master_thesis_hypertension-complications/Cohort_Extraction/Complications/Renal_Diseases/All/Cases_HT_renal_disease_all.pkl\")\n",
    "Cases_HT_before2013_disease_onset_unique.to_pickle(\"home/kiwitn01/master_thesis_hypertension-complications/Cohort_Extraction/Complications/Renal_Diseases/All/Cases_HT_renal_disease_all_unique.pkl\")\n"
   ]
  },
  {
   "cell_type": "code",
   "execution_count": null,
   "metadata": {},
   "outputs": [],
   "source": [
    "#save as pkl files\n",
    "Cases_HT_before2013_disease_onset = pd.read_pickle(\"/home/kiwitn01/master_thesis_hypertension-complications/Cohort_Extraction/Complications/Renal_Diseases/All/Cases_HT_renal_disease_all.pkl\")\n",
    "Cases_HT_before2013_disease_onset_unique= pd.read_pickle(\"/home/kiwitn01/master_thesis_hypertension-complications/Cohort_Extraction/Complications/Renal_Diseases/All/Cases_HT_renal_disease_all_unique.pkl\")\n"
   ]
  },
  {
   "cell_type": "code",
   "execution_count": null,
   "metadata": {},
   "outputs": [],
   "source": [
    "Cases_HT_before2013_disease_onset_unique"
   ]
  },
  {
   "cell_type": "code",
   "execution_count": null,
   "metadata": {},
   "outputs": [],
   "source": [
    "#Controls#"
   ]
  },
  {
   "cell_type": "code",
   "execution_count": null,
   "metadata": {},
   "outputs": [],
   "source": [
    "# Control Creation\n",
    "\n",
    "#Choose file to pick from\n",
    "Cases_complication = pd.read_pickle(\"./Cases_HT_renal_disease_all_unique.pkl\")\n",
    "\n",
    "#Create file with only MRNs for the cases\n",
    "Cases_complication_OnlyMRNs = Cases_complication.drop(['age_in_days', 'context_name', 'context_diagnosis_code','date_of_birth_actual','age_in_days_delta', 'onset_year', 'HT_onset_year','age_in_days_HT_onset'], axis = 1) \n",
    "\n",
    "#Merge All Cases with only CR_MRNS\n",
    "Controls_without_complication = Cases_HT_beforeOnset2013.merge(Cases_complication_OnlyMRNs, on ='medical_record_number', how='outer', indicator=True)\n",
    "\n",
    "#Create new dataframe where MRNs that appear in both dataframes before are ignored\n",
    "Controls = Controls_without_complication[Controls_without_complication._merge != 'both']\n"
   ]
  },
  {
   "cell_type": "code",
   "execution_count": null,
   "metadata": {},
   "outputs": [],
   "source": [
    "Controls"
   ]
  },
  {
   "cell_type": "code",
   "execution_count": null,
   "metadata": {},
   "outputs": [],
   "source": [
    "#name file correctly and save cohort\n",
    "Controls.to_pickle(\"./Controls_No_Renal_Diseases_Ever.pkl\")\n"
   ]
  },
  {
   "cell_type": "code",
   "execution_count": null,
   "metadata": {},
   "outputs": [],
   "source": []
  }
 ],
 "metadata": {
  "kernelspec": {
   "display_name": "Python 3",
   "language": "python",
   "name": "python3"
  },
  "language_info": {
   "codemirror_mode": {
    "name": "ipython",
    "version": 3
   },
   "file_extension": ".py",
   "mimetype": "text/x-python",
   "name": "python",
   "nbconvert_exporter": "python",
   "pygments_lexer": "ipython3",
   "version": "3.7.5"
  }
 },
 "nbformat": 4,
 "nbformat_minor": 2
}
