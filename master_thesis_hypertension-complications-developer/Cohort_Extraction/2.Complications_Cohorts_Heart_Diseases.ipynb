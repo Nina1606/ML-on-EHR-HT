{
 "cells": [
  {
   "cell_type": "code",
   "execution_count": null,
   "metadata": {},
   "outputs": [],
   "source": [
    "import fiber\n",
    "from fiber.cohort import Cohort\n",
    "from fiber.condition import Patient, MRNs\n",
    "from fiber.condition import Diagnosis\n",
    "from fiber.condition import Measurement, Encounter, Drug\n",
    "from fiber.storage import yaml as fiberyaml\n",
    "import pandas as pd\n",
    "import pyarrow.parquet as pq\n",
    "import numpy as np\n",
    "import os\n",
    "from functools import reduce \n",
    "from fiber.utils import Timer\n",
    "import pickle"
   ]
  },
  {
   "cell_type": "code",
   "execution_count": null,
   "metadata": {},
   "outputs": [],
   "source": [
    "#Load dataframe HT cohort\n",
    "Cases_HT_beforeOnset2013= pd.read_pickle(\"./Cases_HT_beforeOnset2013.pkl\")\n",
    "Cases_HT_beforeOnset2013 = Cases_HT_beforeOnset2013.rename(columns={\"onset_year\": \"HT_onset_year\"})\n",
    "Cases_HT_beforeOnset2013 = Cases_HT_beforeOnset2013.rename(columns={\"age_in_days\": \"age_in_days_HT_onset\"})"
   ]
  },
  {
   "cell_type": "code",
   "execution_count": null,
   "metadata": {},
   "outputs": [],
   "source": [
    "Cases_HT_beforeOnset2013.filter(['age_in_days_HT_onset','onset_year', 'HT', 'age_in_days_delta', 'date_of_birth_actual' ])"
   ]
  },
  {
   "cell_type": "code",
   "execution_count": null,
   "metadata": {},
   "outputs": [],
   "source": [
    "#Cases with disease development cohort extraction\n",
    "\n",
    "#Load dataframe HT cohort\n",
    "Cases_HT_beforeOnset2013= pd.read_pickle(\"./Cases_HT_beforeOnset2013.pkl\")\n",
    "Cases_HT_beforeOnset2013 = Cases_HT_beforeOnset2013.rename(columns={\"onset_year\": \"HT_onset_year\"})\n",
    "Cases_HT_beforeOnset2013 = Cases_HT_beforeOnset2013.rename(columns={\"age_in_days\": \"age_in_days_HT_onset\"})\n",
    "\n",
    "def df_to_cohort(df):\n",
    "    mrns = list(df.index.values)\n",
    "    condition = MRNs(mrns)\n",
    "    return Cohort(condition)\n",
    "\n",
    "cohort = df_to_cohort(Cases_HT_beforeOnset2013)\n",
    "\n",
    "#heart disease\n",
    "condition = (Diagnosis('I20.%', 'ICD-10')|\n",
    "             Diagnosis('I21.%', 'ICD-10')|\n",
    "             Diagnosis('I22.%', 'ICD-10')|\n",
    "             Diagnosis('I23.%', 'ICD-10')|\n",
    "             Diagnosis('I24.%', 'ICD-10')|\n",
    "             Diagnosis('I25.%', 'ICD-10')|\n",
    "             Diagnosis('I26.%', 'ICD-10')|\n",
    "             Diagnosis('I27.%', 'ICD-10')|\n",
    "             Diagnosis('I28.%', 'ICD-10')|\n",
    "             Diagnosis('I30.%', 'ICD-10')|\n",
    "             Diagnosis('I31.%', 'ICD-10')|\n",
    "             Diagnosis('I32.%', 'ICD-10')|\n",
    "             Diagnosis('I33.%', 'ICD-10')|\n",
    "             Diagnosis('I34.%', 'ICD-10')|\n",
    "             Diagnosis('I35.%', 'ICD-10')|\n",
    "             Diagnosis('I36.%', 'ICD-10')|\n",
    "             Diagnosis('I37.%', 'ICD-10')|\n",
    "             Diagnosis('I38.%', 'ICD-10')|\n",
    "             Diagnosis('I39.%', 'ICD-10')|\n",
    "             Diagnosis('I40.%', 'ICD-10')|\n",
    "             Diagnosis('I41.%', 'ICD-10')|\n",
    "             Diagnosis('I42.%', 'ICD-10')|\n",
    "             Diagnosis('I43.%', 'ICD-10')|\n",
    "             Diagnosis('I44.%', 'ICD-10')|\n",
    "             Diagnosis('I45.%', 'ICD-10')|\n",
    "             Diagnosis('I46.%', 'ICD-10')|\n",
    "             Diagnosis('I47.%', 'ICD-10')|\n",
    "             Diagnosis('I48.%', 'ICD-10')|\n",
    "             Diagnosis('I49.%', 'ICD-10')|\n",
    "             Diagnosis('I50.%', 'ICD-10')|\n",
    "             Diagnosis('I51.%', 'ICD-10')|\n",
    "             Diagnosis('I52.%', 'ICD-10')|\n",
    "             Diagnosis('410.%', 'ICD-9')|\n",
    "             Diagnosis('411.%', 'ICD-9')|\n",
    "             Diagnosis('412.%', 'ICD-9')|\n",
    "             Diagnosis('413.%', 'ICD-9')|\n",
    "             Diagnosis('414.%', 'ICD-9')|\n",
    "             Diagnosis('415.%', 'ICD-9')|\n",
    "             Diagnosis('416.%', 'ICD-9')|\n",
    "             Diagnosis('417.%', 'ICD-9')|\n",
    "             Diagnosis('420.%', 'ICD-9')|\n",
    "             Diagnosis('421.%', 'ICD-9')|\n",
    "             Diagnosis('422.%', 'ICD-9')|\n",
    "             Diagnosis('423.%', 'ICD-9')|\n",
    "             Diagnosis('424.%', 'ICD-9')|\n",
    "             Diagnosis('425.%', 'ICD-9')|\n",
    "             Diagnosis('426.%', 'ICD-9')|\n",
    "             Diagnosis('427.%', 'ICD-9')|\n",
    "             Diagnosis('428.%', 'ICD-9')|\n",
    "             Diagnosis('I11.%', 'ICD-10')| #hypertensive heart disease\n",
    "             Diagnosis('402.%', 'ICD-9')|  #hypertensive heart disease\n",
    "             Diagnosis('429.%', 'ICD-9'))\n",
    "  \n",
    "Cases_HT_before2013_disease = cohort.get(condition)\n",
    "\n",
    "Cases_HT_before2013_disease.set_index('medical_record_number', inplace = True)\n",
    "\n",
    "### create new dataframe with only disease MRN and date_of_birth\n",
    "Cases_HT_beforeOnset2013_DOB = Cases_HT_beforeOnset2013[['date_of_birth_actual','HT_onset_year', 'age_in_days_HT_onset']]\n",
    "Cases_HT_before2013_disease_merged_DOB = Cases_HT_before2013_disease.merge(Cases_HT_beforeOnset2013_DOB, left_index=True, right_index=True, how=\"inner\")\n",
    "\n",
    "#add onset year\n",
    "def add_onset_year(df_main):\n",
    "    df_main['age_in_days_delta'] = pd.to_timedelta(df_main['age_in_days'],'d')\n",
    "    df_main['onset_year'] = (df_main['date_of_birth_actual'] + df_main['age_in_days_delta']).dt.year\n",
    "    return df_main\n",
    "\n",
    "Cases_HT_before2013_disease_onset = add_onset_year(Cases_HT_before2013_disease_merged_DOB)\n",
    "Cases_HT_before2013_disease_onset_unique = Cases_HT_before2013_disease_onset.groupby(\"medical_record_number\").count()\n"
   ]
  },
  {
   "cell_type": "code",
   "execution_count": null,
   "metadata": {},
   "outputs": [],
   "source": [
    "Cases_HT_before2013_disease_onset"
   ]
  },
  {
   "cell_type": "code",
   "execution_count": null,
   "metadata": {},
   "outputs": [],
   "source": [
    "Cases_HT_before2013_disease_onset_unique"
   ]
  },
  {
   "cell_type": "code",
   "execution_count": null,
   "metadata": {},
   "outputs": [],
   "source": [
    "#save as pkl files\n",
    "Cases_HT_before2013_disease_onset.to_pickle(\"./Cases_HT_heart_disease_all.pkl\")\n",
    "Cases_HT_before2013_disease_onset_unique.to_pickle(\"./Cases_HT_heart_disease_all_unique.pkl\")"
   ]
  },
  {
   "cell_type": "code",
   "execution_count": null,
   "metadata": {},
   "outputs": [],
   "source": []
  },
  {
   "cell_type": "code",
   "execution_count": null,
   "metadata": {},
   "outputs": [],
   "source": [
    "# Control Creation"
   ]
  },
  {
   "cell_type": "code",
   "execution_count": null,
   "metadata": {},
   "outputs": [],
   "source": [
    "#Choose file to pick from\n",
    "Cases_HT_beforeOnset2013= pd.read_pickle(\"/home/kiwitn01/master_thesis_hypertension-complications/Cohort_Extraction/Cases_HT_beforeOnset2013.pkl\")\n",
    "Cases_complication = pd.read_pickle(\"/home/kiwitn01/master_thesis_hypertension-complications/Cohort_Extraction/Complications/Heart_Diseases/All/Cases_HT_heart_disease_all_unique.pkl\")\n",
    "\n",
    "#Create file with only MRNs for the cases\n",
    "Cases_complication_OnlyMRNs = Cases_complication.drop(['age_in_days', 'context_name', 'context_diagnosis_code','date_of_birth_actual','age_in_days_delta', 'onset_year', 'HT_onset_year','age_in_days_HT_onset'], axis = 1) \n",
    "\n",
    "#Merge All Cases with only complication_MRNS\n",
    "Controls_without_complication = Cases_HT_beforeOnset2013.merge(Cases_complication_OnlyMRNs, on ='medical_record_number', how='outer', indicator=True)\n",
    "\n",
    "#Create new dataframe where MRNs that appear in both dataframes before are ignored\n",
    "Controls = Controls_without_complication[Controls_without_complication._merge != 'both']\n"
   ]
  },
  {
   "cell_type": "code",
   "execution_count": null,
   "metadata": {},
   "outputs": [],
   "source": [
    "Controls"
   ]
  },
  {
   "cell_type": "code",
   "execution_count": null,
   "metadata": {},
   "outputs": [],
   "source": [
    "#name file correctly and save cohort\n",
    "Controls.to_pickle(\"./Controls_No_Heart_Diseases_Ever.pkl\")"
   ]
  },
  {
   "cell_type": "code",
   "execution_count": null,
   "metadata": {},
   "outputs": [],
   "source": []
  }
 ],
 "metadata": {
  "kernelspec": {
   "display_name": "Python 3",
   "language": "python",
   "name": "python3"
  },
  "language_info": {
   "codemirror_mode": {
    "name": "ipython",
    "version": 3
   },
   "file_extension": ".py",
   "mimetype": "text/x-python",
   "name": "python",
   "nbconvert_exporter": "python",
   "pygments_lexer": "ipython3",
   "version": "3.7.5"
  }
 },
 "nbformat": 4,
 "nbformat_minor": 2
}
