{
 "cells": [
  {
   "cell_type": "code",
   "execution_count": null,
   "metadata": {},
   "outputs": [],
   "source": [
    "%load_ext autoreload\n",
    "%autoreload 2"
   ]
  },
  {
   "cell_type": "code",
   "execution_count": null,
   "metadata": {},
   "outputs": [],
   "source": [
    "import yaml\n",
    "import re\n",
    "\n",
    "import seaborn as sns\n",
    "import numpy as np\n",
    "import pandas as pd\n",
    "import matplotlib.pyplot as plt\n",
    "\n",
    "from functools import reduce\n",
    "\n",
    "from fiber.cohort import Cohort\n",
    "from fiber.condition import Procedure, Diagnosis, Drug, VitalSign, Patient, LabValue, Encounter, MRNs\n",
    "from fiber.database.hana import engine, Session\n",
    "\n",
    "from fiber.database.table import fact\n",
    "from fiber.database import print_sqla\n",
    "from fiber.storage import yaml as fiberyaml\n",
    "\n",
    "#from fiber import VERBOSE \n",
    "import random\n",
    "import matplotlib.ticker as ticker"
   ]
  },
  {
   "cell_type": "code",
   "execution_count": null,
   "metadata": {},
   "outputs": [],
   "source": [
    "#pip install pyarrow\n"
   ]
  },
  {
   "cell_type": "code",
   "execution_count": null,
   "metadata": {},
   "outputs": [],
   "source": [
    "VERBOSE = 1"
   ]
  },
  {
   "cell_type": "code",
   "execution_count": null,
   "metadata": {},
   "outputs": [],
   "source": [
    "hype_occurs = pd.read_parquet('/home/dattas03/hpi_s4h/cohort/hypertension_phenotype_onsets.parquet', engine='pyarrow')\n"
   ]
  },
  {
   "cell_type": "code",
   "execution_count": null,
   "metadata": {},
   "outputs": [],
   "source": [
    "hype_occurs"
   ]
  },
  {
   "cell_type": "code",
   "execution_count": null,
   "metadata": {},
   "outputs": [],
   "source": [
    "hype_occurs = hype_occurs[hype_occurs['hypertensive_onset_0_after_180_after']==True]\n",
    "\n",
    "MRNs_BP_Onsets = hype_occurs.groupby(['medical_record_number'])['age_in_days'].min().to_frame()"
   ]
  },
  {
   "cell_type": "code",
   "execution_count": null,
   "metadata": {},
   "outputs": [],
   "source": [
    "MRNs_BP_Condition = set(hype_occurs[hype_occurs['hypertensive_onset_0_after_180_after']==True]['medical_record_number'])"
   ]
  },
  {
   "cell_type": "code",
   "execution_count": null,
   "metadata": {},
   "outputs": [],
   "source": []
  },
  {
   "cell_type": "code",
   "execution_count": null,
   "metadata": {},
   "outputs": [],
   "source": []
  },
  {
   "cell_type": "code",
   "execution_count": null,
   "metadata": {},
   "outputs": [],
   "source": [
    "fiberyaml.get_available_conditions(Diagnosis)\n",
    "\n",
    "condition = fiberyaml.get_condition(Diagnosis,'hypertension uncomplicated', coding_schemes = ['ICD-10', 'ICD-9'])"
   ]
  },
  {
   "cell_type": "code",
   "execution_count": null,
   "metadata": {},
   "outputs": [],
   "source": [
    "MRNS_ICD = Cohort(condition).mrns()\n",
    "\n",
    "MRNs_ICD_Onsets = get_occurances_icdcodes(MRNS_ICD, condition).groupby(['medical_record_number'])['age_in_days'].min().to_frame()\n",
    "#MRNs_ICD_Onsets.to_parquet('/data2/projects/hpi_s4h/cohort/MRNs_ICD_Onsets.parquet')\n"
   ]
  },
  {
   "cell_type": "code",
   "execution_count": null,
   "metadata": {},
   "outputs": [],
   "source": [
    "MRNs_ICD_Onsets = pd.read_parquet('/home/dattas03/hpi_s4h/cohort/MRNs_ICD_Onsets.parquet', engine='pyarrow')\n"
   ]
  },
  {
   "cell_type": "code",
   "execution_count": null,
   "metadata": {},
   "outputs": [],
   "source": [
    "MRNS_ICD = MRNs_ICD_Onsets"
   ]
  },
  {
   "cell_type": "code",
   "execution_count": null,
   "metadata": {},
   "outputs": [],
   "source": [
    "MRNS_ICD  = MRNS_ICD.reset_index(['medical_record_number'])\n"
   ]
  },
  {
   "cell_type": "code",
   "execution_count": null,
   "metadata": {},
   "outputs": [],
   "source": [
    "MRNS_ICD"
   ]
  },
  {
   "cell_type": "code",
   "execution_count": null,
   "metadata": {},
   "outputs": [],
   "source": [
    "def get_occurances_icdcodes(mrns,condition):\n",
    "    appended_data = []\n",
    "    mrns = list(mrns)\n",
    "    for limit in range(0, len(mrns), 10000):\n",
    "        p_condition = MRNs(mrns[limit:(limit + 10000)])\n",
    "        cohort = Cohort(p_condition)\n",
    "        encounters_cohort = cohort.get_occurrences(condition)\n",
    "        appended_data.append(encounters_cohort)\n",
    "    appended_data = pd.concat(appended_data)\n",
    "    return appended_data"
   ]
  },
  {
   "cell_type": "code",
   "execution_count": null,
   "metadata": {},
   "outputs": [],
   "source": [
    "materials = pd.read_csv('/home/dattas03/hpi_s4h/bp_meds.tsv', '\\t').MATERIAL_NAME.drop_duplicates()\n",
    "\n",
    "materials.shape"
   ]
  },
  {
   "cell_type": "code",
   "execution_count": null,
   "metadata": {},
   "outputs": [],
   "source": [
    "materials.to_csv('BP_Meds.csv')"
   ]
  },
  {
   "cell_type": "code",
   "execution_count": null,
   "metadata": {},
   "outputs": [],
   "source": [
    "def get_med_mrns(materials):\n",
    "    MRN_MEDS = []\n",
    "    for limit in range(0, len(materials), 10):\n",
    "        drug_cond = reduce(\n",
    "            Drug.__or__, \n",
    "            [Drug(material_name) for material_name in materials[limit:(limit + 10)]]\n",
    "        )\n",
    "        MRN_MEDS.append(Cohort(drug_cond).get_occurrences(drug_cond))\n",
    "        print(len(MRN_MEDS))\n",
    "    appended_data = pd.concat(MRN_MEDS)\n",
    "    return appended_data"
   ]
  },
  {
   "cell_type": "code",
   "execution_count": null,
   "metadata": {},
   "outputs": [],
   "source": [
    "MRN_MEDS = get_med_mrns(materials)\n",
    "#df_mrns_meds = pd.DataFrame(list(MRN_MEDS))\n",
    "#df_mrns_meds.columns = ['MRNs']\n",
    "#df_mrns_meds.to_parquet('/data2/projects/hpi_s4h/cohort/hypertension_medication_mrns.parquet')"
   ]
  },
  {
   "cell_type": "code",
   "execution_count": null,
   "metadata": {},
   "outputs": [],
   "source": [
    "hype_med_mrns_df = pd.read_parquet('/home/dattas03/hpi_s4h/cohort/hypertension_medication_mrns.parquet', engine='pyarrow')\n",
    "\n"
   ]
  },
  {
   "cell_type": "code",
   "execution_count": null,
   "metadata": {},
   "outputs": [],
   "source": [
    "hype_med_mrns_df"
   ]
  },
  {
   "cell_type": "code",
   "execution_count": null,
   "metadata": {},
   "outputs": [],
   "source": [
    "hype_med_mrns = set(hype_med_mrns_df['MRNs'])"
   ]
  },
  {
   "cell_type": "code",
   "execution_count": null,
   "metadata": {},
   "outputs": [],
   "source": [
    "MRNS_ICD = set(MRNS_ICD['medical_record_number'])"
   ]
  },
  {
   "cell_type": "code",
   "execution_count": null,
   "metadata": {},
   "outputs": [],
   "source": [
    "len(hype_med_mrns)"
   ]
  },
  {
   "cell_type": "code",
   "execution_count": null,
   "metadata": {},
   "outputs": [],
   "source": [
    "len(MRNS_ICD)"
   ]
  },
  {
   "cell_type": "code",
   "execution_count": null,
   "metadata": {},
   "outputs": [],
   "source": [
    "len(MRNs_BP_Condition)"
   ]
  },
  {
   "cell_type": "code",
   "execution_count": null,
   "metadata": {},
   "outputs": [],
   "source": [
    "#pip install matplotlib-venn"
   ]
  },
  {
   "cell_type": "code",
   "execution_count": null,
   "metadata": {},
   "outputs": [],
   "source": [
    "##!pip install matplotlib-venn\n",
    "from matplotlib_venn import venn3\n",
    "\n",
    "newvenn = plt.figure(figsize=(20,10)) \n",
    "venn3([hype_med_mrns, MRNS_ICD, MRNs_BP_Condition], set_labels = ('BPMeds', 'ICD', 'BPVitals'))"
   ]
  },
  {
   "cell_type": "code",
   "execution_count": null,
   "metadata": {},
   "outputs": [],
   "source": [
    "newvenn.savefig('Venn_HT_Cohort.pdf', dpi=300)"
   ]
  },
  {
   "cell_type": "code",
   "execution_count": null,
   "metadata": {},
   "outputs": [],
   "source": [
    "hype_mrns = (hype_med_mrns.intersection(MRNS_ICD)).union(MRNS_ICD.intersection(MRNs_BP_Condition)).union(hype_med_mrns.intersection(MRNs_BP_Condition))\n",
    "\n",
    "print(len(hype_mrns))"
   ]
  },
  {
   "cell_type": "code",
   "execution_count": null,
   "metadata": {},
   "outputs": [],
   "source": [
    "def get_occurances(mrns):\n",
    "    appended_data = []\n",
    "    mrns = list(mrns)\n",
    "    for limit in range(0, len(mrns), 10000):\n",
    "        print(\"entered\")\n",
    "        p_condition = MRNs(mrns[limit:(limit + 10000)])\n",
    "        cohort = Cohort(p_condition)\n",
    "        encounters_cohort = cohort.get(Encounter())\n",
    "        appended_data.append(encounters_cohort.groupby('medical_record_number').size())\n",
    "    appended_data = pd.concat(appended_data)\n",
    "    return appended_data"
   ]
  },
  {
   "cell_type": "code",
   "execution_count": null,
   "metadata": {},
   "outputs": [],
   "source": [
    "#df_hypemrns_encounters = get_occurances(hype_mrns)\n",
    "#df_hypemrns_encounters.columns = ['Encounters']\n",
    "#print(df_hypemrns_encounters.shape)\n",
    "#df_hypemrns_encounters.to_parquet('/data2/projects/hpi_s4h/cohort/hype_encounter.parquet')"
   ]
  },
  {
   "cell_type": "code",
   "execution_count": null,
   "metadata": {},
   "outputs": [],
   "source": [
    "df_hypemrns_encounters = pd.read_parquet('/home/dattas03/hpi_s4h/cohort/hype_encounter.parquet', engine='pyarrow').head()\n",
    "\n"
   ]
  },
  {
   "cell_type": "code",
   "execution_count": null,
   "metadata": {},
   "outputs": [],
   "source": [
    "print(\"the mean of the encounters for the case are: \" + str(np.mean(df_hypemrns_encounters)))\n",
    "print(\"the median of the encounters for the case are: \" + str(np.median(df_hypemrns_encounters)))\n",
    "print(\"the min of the encounters for the case are: \" + str(np.min(df_hypemrns_encounters)))\n",
    "print(\"the max of the encounters for the case are: \" + str(np.max(df_hypemrns_encounters)))"
   ]
  },
  {
   "cell_type": "code",
   "execution_count": null,
   "metadata": {},
   "outputs": [],
   "source": [
    "All_MRNs_WDiagnosis = Cohort(Diagnosis()).mrns()"
   ]
  },
  {
   "cell_type": "code",
   "execution_count": null,
   "metadata": {},
   "outputs": [],
   "source": [
    "len(All_MRNs_WDiagnosis - hype_mrns)"
   ]
  },
  {
   "cell_type": "code",
   "execution_count": null,
   "metadata": {},
   "outputs": [],
   "source": [
    "control_mrns = All_MRNs_WDiagnosis - hype_mrns"
   ]
  },
  {
   "cell_type": "code",
   "execution_count": null,
   "metadata": {},
   "outputs": [],
   "source": [
    "sample_control_mrns = random.sample(control_mrns, 1000000)\n",
    "len(sample_control_mrns)\n",
    "#sample_control_mrns_occurances = get_occurances(sample_control_mrns)"
   ]
  },
  {
   "cell_type": "code",
   "execution_count": null,
   "metadata": {},
   "outputs": [],
   "source": [
    "print(\"the mean of the encounters for the control are: \" + str(np.mean(sample_control_mrns_occurances)))\n",
    "print(\"the median of the encounters for the control are: \" + str(np.median(sample_control_mrns_occurances)))\n",
    "print(\"the min of the encounters for the control are: \" + str(np.min(sample_control_mrns_occurances)))\n",
    "print(\"the max of the encounters for the control are: \" + str(np.max(sample_control_mrns_occurances)))"
   ]
  },
  {
   "cell_type": "code",
   "execution_count": null,
   "metadata": {},
   "outputs": [],
   "source": [
    "sample_control_occurances_thresholded = (sample_control_mrns_occurances.where(lambda x : x>=24).dropna())"
   ]
  },
  {
   "cell_type": "code",
   "execution_count": null,
   "metadata": {},
   "outputs": [],
   "source": [
    "print(\"the mean of the encounters for the control are: \" + str(np.mean(sample_control_occurances_thresholded)))\n",
    "print(\"the median of the encounters for the control are: \" + str(np.median(sample_control_occurances_thresholded)))\n",
    "print(\"the min of the encounters for the control are: \" + str(np.min(sample_control_occurances_thresholded)))\n",
    "print(\"the max of the encounters for the control are: \" + str(np.max(sample_control_occurances_thresholded)))"
   ]
  },
  {
   "cell_type": "code",
   "execution_count": null,
   "metadata": {},
   "outputs": [],
   "source": [
    "#d = pd.DataFrame()\n",
    "\n",
    "#for threshold in range(1, 100, 5): \n",
    "#    length_mrns = len(sample_control_mrns_occurances.where(lambda x : x>=threshold).dropna())\n",
    "#    temp = pd.DataFrame({'Threshold': threshold, 'MRNs': length_mrns}, index = [0])\n",
    "#    d = pd.concat([d, temp])\n",
    "\n",
    "#plt.figure(figsize=(10,10))     \n",
    "#ax = sns.lineplot(x=\"Threshold\", y=\"MRNs\", data=d)\n",
    "#ax.xaxis.set_major_locator(ticker.MultipleLocator(5))\n",
    "#ax.xaxis.set_major_formatter(ticker.ScalarFormatter())"
   ]
  },
  {
   "cell_type": "code",
   "execution_count": null,
   "metadata": {},
   "outputs": [],
   "source": [
    "for limit in range(0, 105, 10):\n",
    "    print(limit)"
   ]
  },
  {
   "cell_type": "code",
   "execution_count": null,
   "metadata": {},
   "outputs": [],
   "source": [
    "icd9_matteo = ['696','696.0']\n",
    "Diagnosis(icd9_matteo, 'ICD-9')\n",
    "whatever = Cohort(Diagnosis(icd9_matteo, 'ICD-9')).mrns()"
   ]
  },
  {
   "cell_type": "code",
   "execution_count": null,
   "metadata": {},
   "outputs": [],
   "source": [
    "whatever"
   ]
  },
  {
   "cell_type": "code",
   "execution_count": null,
   "metadata": {},
   "outputs": [],
   "source": []
  }
 ],
 "metadata": {
  "kernelspec": {
   "display_name": "Python 3",
   "language": "python",
   "name": "python3"
  },
  "language_info": {
   "codemirror_mode": {
    "name": "ipython",
    "version": 3
   },
   "file_extension": ".py",
   "mimetype": "text/x-python",
   "name": "python",
   "nbconvert_exporter": "python",
   "pygments_lexer": "ipython3",
   "version": "3.7.5"
  }
 },
 "nbformat": 4,
 "nbformat_minor": 2
}
