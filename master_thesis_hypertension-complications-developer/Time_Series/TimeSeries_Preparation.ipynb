{
 "cells": [
  {
   "cell_type": "code",
   "execution_count": null,
   "metadata": {},
   "outputs": [],
   "source": [
    "# This notebook serves to:\n",
    "\n",
    "#1) Prepare Time Series Convert Numeric for LabValue, VitalSign, Procedure in quantiles\n",
    "#2) only consider what happened before HT_onset (filter age_delta < HT_onset)\n",
    "#3) Prepare unique concepts \n",
    "#4) Create individual records for MRNs & Split in Cohorts\n",
    "#5) prepare drug & diagnosis as needed for LSTM"
   ]
  },
  {
   "cell_type": "code",
   "execution_count": null,
   "metadata": {},
   "outputs": [],
   "source": [
    "import os\n",
    "import pyarrow.parquet as pq\n",
    "import pandas as pd\n",
    "import time\n",
    "import numpy as np\n",
    "import pickle\n",
    "import sys\n",
    "import tensorflow as tf"
   ]
  },
  {
   "cell_type": "code",
   "execution_count": null,
   "metadata": {},
   "outputs": [],
   "source": [
    "#load time-series fetched data files from all 61k (HT onset before 2013) cohort files\n",
    "\n",
    "Diagnosis = pd.read_pickle('/home/kiwitn01/master_thesis_hypertension-complications/Time_Series/Fetched_Timeseries/Diagnosis/Diagnosis_time_series_all_new.pkl')\n",
    "Drugs = pd.read_pickle('/home/kiwitn01/master_thesis_hypertension-complications/Time_Series/Fetched_Timeseries/Drugs/Drug_time_series_all_new.pkl')\n",
    "Procedure = pd.read_pickle('/home/kiwitn01/master_thesis_hypertension-complications/Time_Series/Fetched_Timeseries/Procedure/procedure_time_series_all.pkl')\n",
    "LabValues = pd.read_pickle('/home/kiwitn01/master_thesis_hypertension-complications/Time_Series/Fetched_Timeseries/LabValues/labvalue_time_series_all.pkl')\n",
    "VitalSigns = pd.read_pickle('/home/kiwitn01/master_thesis_hypertension-complications/Time_Series/Fetched_Timeseries/VitalSigns/vitalsign_time_series_all.pkl')\n",
    "\n",
    "Extra_BP_values = pd.read_pickle('/home/kiwitn01/master_thesis_hypertension-complications/Time_Series/Fetched_Timeseries/VitalSigns/vitalsign_time_series_extra_BP_30_days_before_event.pkl')                                                                                        \n",
    "Extra_BP_values= Extra_BP_values.reset_index('medical_record_number')"
   ]
  },
  {
   "cell_type": "code",
   "execution_count": null,
   "metadata": {},
   "outputs": [],
   "source": [
    "# 1) prepare VitalSigns, LabValues and Procedures dataframes for quantile processing for timeseries model as dynamic features\n",
    "\n",
    "LabValues = LabValues[['medical_record_number','age_in_days','numeric_value', 'time_delta_in_days', 'test_name']]\n",
    "LabValues = LabValues.rename(columns={'test_name': 'description'})\n",
    "LabValues= LabValues.dropna(subset=['description'], axis= 0)\n",
    "LabValues['description'] = 'LabValue_' + LabValues['description'].astype(str)\n",
    "\n",
    "VitalSigns = VitalSigns[['medical_record_number','age_in_days', 'context_procedure_code', 'numeric_value', 'time_delta_in_days' ]]\n",
    "VitalSigns = VitalSigns.rename(columns={'context_procedure_code': 'description'})\n",
    "VitalSigns= VitalSigns.dropna(subset=['description'], axis= 0)\n",
    "VitalSigns['description'] = 'VitalSigns_' + VitalSigns['description'].astype(str)\n",
    "\n",
    "Procedure = Procedure[['medical_record_number', 'age_in_days', 'procedure_description', 'numeric_value', 'time_delta_in_days']]\n",
    "Procedure = Procedure.rename(columns={'procedure_description': 'description'})\n",
    "Procedure= Procedure.dropna(subset=['description'], axis= 0)\n",
    "Procedure['description'] = 'Procedure_' + Procedure['description'].astype(str)\n",
    "\n",
    "Extra_BP_values = Extra_BP_values.rename(columns={'age_in_days_HT_onset': 'age_in_days'})\n",
    "Extra_BP_values = Extra_BP_values[['medical_record_number','age_in_days', 'context_procedure_code', 'numeric_value', 'time_delta_in_days' ]]\n",
    "Extra_BP_values = Extra_BP_values.rename(columns={'context_procedure_code': 'description'})\n",
    "Extra_BP_values= Extra_BP_values.dropna(subset=['description'], axis= 0)\n",
    "Extra_BP_values['description'] = 'Extra_BP_values' + Extra_BP_values['description'].astype(str)\n",
    "\n",
    "df = pd.concat([LabValues,VitalSigns, Procedure, Extra_BP_values])\n",
    "df = df.dropna(subset=['time_delta_in_days'], axis= 0)\n",
    "df = df.dropna(subset=['numeric_value'], axis= 0)\n",
    "df = df.loc[df['numeric_value'] >=0]\n",
    "\n",
    "df.to_pickle('/home/kiwitn01/master_thesis_hypertension-complications/Time_Series/New/Lab_Vital_Proc_noNaN_prepared_extra_BP_values_30_days.pkl')\n",
    "\n"
   ]
  },
  {
   "cell_type": "code",
   "execution_count": null,
   "metadata": {},
   "outputs": [],
   "source": [
    "#further cleaned for no numeric value and negative values\n",
    "len (df.drop_duplicates('medical_record_number'))\n"
   ]
  },
  {
   "cell_type": "code",
   "execution_count": null,
   "metadata": {},
   "outputs": [],
   "source": []
  },
  {
   "cell_type": "code",
   "execution_count": null,
   "metadata": {},
   "outputs": [],
   "source": [
    "### numeric process in quantiles\n",
    "#start here again\n",
    "df = pd.read_pickle('/home/kiwitn01/master_thesis_hypertension-complications/Time_Series/New/Lab_Vital_Proc_noNaN_prepared_extra_BP_values_30_days.pkl')\n"
   ]
  },
  {
   "cell_type": "code",
   "execution_count": null,
   "metadata": {},
   "outputs": [],
   "source": [
    "len (df.drop_duplicates('medical_record_number'))"
   ]
  },
  {
   "cell_type": "code",
   "execution_count": null,
   "metadata": {},
   "outputs": [],
   "source": [
    "df[\"high_low\"] = \"\"\n",
    "\n",
    "df1 = pd.DataFrame(df.groupby(by='description')['numeric_value'].quantile([0.25,0.5,0.75]))\n",
    "df1.reset_index(inplace=True)\n",
    "\n",
    "df1.rename(columns={'level_1':'quantile'}, inplace=True)\n",
    "df1['quantile'] = df1['quantile'].replace(0.25,'Q1').replace(0.50,'Q2').replace(0.75,'Q3')\n",
    "\n",
    "print('Quantile df:',df1.head())\n",
    "\n",
    "unique_descriptions =list(df1.description.unique())\n",
    "print('Length of unique_descriptions:',len(unique_descriptions))\n",
    "\n",
    "for val in unique_descriptions:\n",
    "    print(f'Key:{val}')\n",
    "    Q1 = float(df1.loc[(df1['description'] == val) & (df1['quantile'] == 'Q1')]['numeric_value'])\n",
    "    Q2 = float(df1.loc[(df1['description'] == val) & (df1['quantile'] == 'Q2')]['numeric_value'])\n",
    "    Q3 = float(df1.loc[(df1['description'] == val) & (df1['quantile'] == 'Q3')]['numeric_value'])\n",
    "    print(f'Q1:{Q1},Q2:{Q2},Q3:{Q3}')\n",
    "    print('*'*100)\n",
    "    very_low_cond = (df['description'] == val) & (df['numeric_value']< Q1)\n",
    "    medium_low_cond = (df['description'] == val) & ((df['numeric_value'] >= Q1) & (df['numeric_value']<= Q2))\n",
    "    medium_high_cond = (df['description'] == val) & ((df['numeric_value'] > Q2 ) & (df['numeric_value']<= Q3))\n",
    "    very_high_cond = (df['description'] == val) & (df['numeric_value']> Q3)\n",
    "    df['high_low'][very_low_cond] = val+'_very_low'\n",
    "    df['high_low'][medium_low_cond] = val+'_medium_low'\n",
    "    df['high_low'][medium_high_cond] = val+'_medium_high'\n",
    "    df['high_low'][very_high_cond] = val+'_very_high'\n",
    "\n",
    "\n",
    "print('Head of dataframe with unique_vals:',df.head())\n"
   ]
  },
  {
   "cell_type": "code",
   "execution_count": null,
   "metadata": {},
   "outputs": [],
   "source": [
    "df.to_pickle('/home/kiwitn01/master_thesis_hypertension-complications/Time_Series/New/TimeSeries_Lab_Vital_Proc_ExtraBP_30_days_with_quantiles.pkl')\n"
   ]
  },
  {
   "cell_type": "code",
   "execution_count": null,
   "metadata": {},
   "outputs": [],
   "source": []
  },
  {
   "cell_type": "code",
   "execution_count": null,
   "metadata": {},
   "outputs": [],
   "source": [
    "## 2) prepare dataset in terms of timing "
   ]
  },
  {
   "cell_type": "code",
   "execution_count": null,
   "metadata": {},
   "outputs": [],
   "source": [
    "#for only the Lab_VitalSigns_Proc_Extra_BP\n",
    "\n",
    "#df = pd.read_pickle('/home/kiwitn01/master_thesis_hypertension-complications/Time_Series/New/TimeSeries_Lab_Vital_Proc_ExtraBP_30_days_with_quantiles.pkl')\n",
    "\n",
    "timeseries_data = df\n",
    "timeseries_data_before_HT_onset = timeseries_data.loc[timeseries_data['time_delta_in_days'] < 0]\n",
    "extra_BP = timeseries_data[timeseries_data['description'].str.match('Extra_BP')]\n",
    "\n",
    "frames=[timeseries_data_before_HT_onset,extra_BP]\n",
    "time_series= pd.concat(frames)\n",
    "\n",
    "#save file\n",
    "time_series.to_pickle('/home/kiwitn01/master_thesis_hypertension-complications/Time_Series/New/Lab_VS_Proc_features_time_series_clean_and_with_quantiles_with_extra_BP_30_days.pkl')\n"
   ]
  },
  {
   "cell_type": "code",
   "execution_count": null,
   "metadata": {},
   "outputs": [],
   "source": [
    "time_series_data = pd.read_pickle('/home/kiwitn01/master_thesis_hypertension-complications/Time_Series/New/Lab_VS_Proc_features_time_series_clean_and_with_quantiles_with_extra_BP_30_days.pkl')\n",
    "\n"
   ]
  },
  {
   "cell_type": "code",
   "execution_count": null,
   "metadata": {},
   "outputs": [],
   "source": []
  },
  {
   "cell_type": "code",
   "execution_count": null,
   "metadata": {},
   "outputs": [],
   "source": [
    "# 3) prepare unique concepts \n",
    "\n",
    "df = time_series_data\n",
    "\n",
    "save_path =('/home/kiwitn01/master_thesis_hypertension-complications/Time_Series/New/Dynamic_features/with_extra_BP_30_days_without_nan_numeric/')\n",
    "\n",
    "unique_values = df.high_low.unique()\n",
    "unique_concepts_dictionary = {}\n",
    "\n",
    "for i, val in enumerate(unique_values):\n",
    "    unique_concepts_dictionary[val] = i+1\n",
    "\n",
    "# Saving names of unique concepts with it's numeric value in csv file\n",
    "pd.DataFrame.from_dict(unique_concepts_dictionary, orient='index').to_csv('unique_concepts_30_days_no_numeric.csv')\n",
    "\n",
    "# assigning numbers to the unique concept column\n",
    "df[\"unique_concept\"] = \"\"\n",
    "\n",
    "for key in unique_concepts_dictionary:\n",
    "    # df['unique_concept'] = df.high_low.apply(lambda x: unique_concepts_dictionary[key] if x==key else '')\n",
    "    print(\"Current key:\", key)\n",
    "    print(\"*\" * 100)\n",
    "    df[\"unique_concept\"] = np.where(\n",
    "        df[\"high_low\"] == key, unique_concepts_dictionary[key], df[\"unique_concept\"]\n",
    "    )\n",
    "    print(df[df[\"high_low\"] == key].head())\n"
   ]
  },
  {
   "cell_type": "code",
   "execution_count": null,
   "metadata": {},
   "outputs": [],
   "source": [
    "df.to_pickle('/home/kiwitn01/master_thesis_hypertension-complications/Time_Series/New/Lab_VS_Pro_with_unique_concepts_with_extra_BP_30_days.pkl')\n"
   ]
  },
  {
   "cell_type": "code",
   "execution_count": null,
   "metadata": {},
   "outputs": [],
   "source": [
    "len (df.drop_duplicates('medical_record_number'))"
   ]
  },
  {
   "cell_type": "code",
   "execution_count": null,
   "metadata": {},
   "outputs": [],
   "source": []
  },
  {
   "cell_type": "code",
   "execution_count": null,
   "metadata": {},
   "outputs": [],
   "source": []
  },
  {
   "cell_type": "code",
   "execution_count": null,
   "metadata": {},
   "outputs": [],
   "source": []
  },
  {
   "cell_type": "code",
   "execution_count": null,
   "metadata": {},
   "outputs": [],
   "source": [
    "#start here again"
   ]
  },
  {
   "cell_type": "code",
   "execution_count": null,
   "metadata": {},
   "outputs": [],
   "source": [
    "## 4) Create individual records for MRNs & Split in Cohorts\n"
   ]
  },
  {
   "cell_type": "code",
   "execution_count": null,
   "metadata": {},
   "outputs": [],
   "source": [
    "df= pd.read_pickle('/home/kiwitn01/master_thesis_hypertension-complications/Time_Series/New/Lab_VS_Pro_with_unique_concepts_with_extra_BP_30_days.pkl')\n",
    "#df= pd.read_pickle('/home/kiwitn01/master_thesis_hypertension-complications/Time_Series/All_features_with_unique_concepts_with_extra_BP.pkl')\n"
   ]
  },
  {
   "cell_type": "code",
   "execution_count": null,
   "metadata": {},
   "outputs": [],
   "source": [
    "len (df)"
   ]
  },
  {
   "cell_type": "code",
   "execution_count": null,
   "metadata": {},
   "outputs": [],
   "source": [
    "len (df.drop_duplicates('medical_record_number'))"
   ]
  },
  {
   "cell_type": "code",
   "execution_count": null,
   "metadata": {},
   "outputs": [],
   "source": [
    "#dataframe with only extra BP\n",
    "df_ExtraBP = df[df['description'].astype(str).str.startswith('Extra_BP')]\n",
    "df_ExtraBP"
   ]
  },
  {
   "cell_type": "code",
   "execution_count": null,
   "metadata": {},
   "outputs": [],
   "source": [
    "df_ExtraBP.to_pickle('/home/kiwitn01/master_thesis_hypertension-complications/Time_Series/New/Dynamic_features/Lab_VS_Pro_with_unique_concepts_ONLY_extra_BP.pkl')\n"
   ]
  },
  {
   "cell_type": "code",
   "execution_count": null,
   "metadata": {},
   "outputs": [],
   "source": [
    "#dataframe without extraBP\n",
    "df_without_ExtraBP = df[~df['description'].astype(str).str.startswith('Extra_BP')]\n",
    "df_without_ExtraBP.to_pickle('/home/kiwitn01/master_thesis_hypertension-complications/Time_Series/New/Dynamic_features/Lab_VS_Pro_with_unique_concepts_without_extra_BP.pkl')\n",
    "\n",
    "#df = df_without_ExtraBP"
   ]
  },
  {
   "cell_type": "code",
   "execution_count": null,
   "metadata": {},
   "outputs": [],
   "source": [
    "df_without_ExtraBP"
   ]
  },
  {
   "cell_type": "code",
   "execution_count": null,
   "metadata": {},
   "outputs": [],
   "source": [
    "len (df_without_ExtraBP.drop_duplicates('medical_record_number'))"
   ]
  },
  {
   "cell_type": "code",
   "execution_count": null,
   "metadata": {},
   "outputs": [],
   "source": []
  },
  {
   "cell_type": "code",
   "execution_count": null,
   "metadata": {},
   "outputs": [],
   "source": [
    "timeseries_data = df_ExtraBP\n",
    "\n",
    "#ground_truth_data = pd.read_pickle('/home/kiwitn01/master_thesis_hypertension-complications/Case_Control_Cohort_Creation/For_ML_Pipeline/Split_2011/All3_ML_pipeline_final.pkl')\n",
    "\n",
    "#ground_truth_data = pd.read_pickle('/home/kiwitn01/master_thesis_hypertension-complications/Case_Control_Cohort_Creation/For_ML_Pipeline/Split_2012/All3_ML_pipeline_final.pkl')\n",
    "#ground_truth_data = pd.read_pickle('/home/kiwitn01/master_thesis_hypertension-complications/Case_Control_Cohort_Creation/For_ML_Pipeline/Split_2012/Cerebro_ML_pipeline_final.pkl')\n",
    "#ground_truth_data = pd.read_pickle('/home/kiwitn01/master_thesis_hypertension-complications/Case_Control_Cohort_Creation/For_ML_Pipeline/Split_2012/Heart_ML_pipeline_final.pkl')\n",
    "ground_truth_data = pd.read_pickle('/home/kiwitn01/master_thesis_hypertension-complications/Case_Control_Cohort_Creation/For_ML_Pipeline/Split_2012/Renal_ML_pipeline_final.pkl')\n",
    "\n",
    "#ground_truth_data = ground_truth_data.reset_index('medical_record_number')\n",
    "save_path =('/home/kiwitn01/master_thesis_hypertension-complications/Time_Series/New/Dynamic_features/only_extra_BP/')\n",
    "\n",
    "\n"
   ]
  },
  {
   "cell_type": "code",
   "execution_count": null,
   "metadata": {},
   "outputs": [],
   "source": [
    "ground_truth_data"
   ]
  },
  {
   "cell_type": "code",
   "execution_count": null,
   "metadata": {},
   "outputs": [],
   "source": [
    "# creates a sequences for individual MRNs; \n",
    "X = timeseries_data[['medical_record_number','unique_concept']].groupby(['medical_record_number']).aggregate(lambda x: list(x)).reset_index()\n",
    "\n",
    "X1 = X.rename(columns={'unique_concept':'sequence'})\n",
    "print('The head of main dataframe to be saved:',X1.head())\n",
    "\n",
    "\n",
    "y=ground_truth_data[ground_truth_data.medical_record_number.isin(\n",
    "    X.medical_record_number.unique())].sort_values(by='medical_record_number')[['medical_record_number','Complication']].astype('int')\n",
    "y.head()\n",
    "\n",
    "y1=y['Complication']\n",
    "\n",
    "print('The head of y dataframe to be saved:',y1.head())\n"
   ]
  },
  {
   "cell_type": "code",
   "execution_count": null,
   "metadata": {},
   "outputs": [],
   "source": [
    "# save the X and y into pickle \n",
    "\n",
    "#important: change data name according to cohort!\n",
    "\n",
    "with open(save_path+\"data_renal_2012.txt\", \"wb\") as fp:   \n",
    "    pickle.dump(X1, fp)\n",
    "\n",
    "with open(save_path+\"label_renal_2012.txt\", \"wb\") as fp:  \n",
    "    pickle.dump(y1, fp)\n",
    "\n",
    "print('File saved succesfully')\n",
    "\n",
    "with open(save_path+\"data_renal_2012.txt\", \"rb\") as fp:   \n",
    "    XX = pickle.load(fp)\n",
    "\n",
    "print('Saved X dataframe:',XX.head())\n"
   ]
  },
  {
   "cell_type": "code",
   "execution_count": null,
   "metadata": {},
   "outputs": [],
   "source": [
    "len(y)"
   ]
  },
  {
   "cell_type": "code",
   "execution_count": null,
   "metadata": {},
   "outputs": [],
   "source": []
  },
  {
   "cell_type": "code",
   "execution_count": null,
   "metadata": {},
   "outputs": [],
   "source": []
  },
  {
   "cell_type": "code",
   "execution_count": null,
   "metadata": {},
   "outputs": [],
   "source": [
    "################################"
   ]
  },
  {
   "cell_type": "code",
   "execution_count": null,
   "metadata": {},
   "outputs": [],
   "source": [
    "#5) getting diagnosis and control as static features\n",
    "\n",
    "#get the ground data for the cohort that is used also for the timeseries data\n",
    "\n",
    "#ground_truth_data = pd.read_pickle('/home/kiwitn01/master_thesis_hypertension-complications/Case_Control_Cohort_Creation/For_ML_Pipeline/Split_2012/All3_ML_pipeline_final.pkl')\n",
    "#ground_truth_data = pd.read_pickle('/home/kiwitn01/master_thesis_hypertension-complications/Case_Control_Cohort_Creation/For_ML_Pipeline/Split_2012/Cerebro_ML_pipeline_final.pkl')\n",
    "#ground_truth_data = pd.read_pickle('/home/kiwitn01/master_thesis_hypertension-complications/Case_Control_Cohort_Creation/For_ML_Pipeline/Split_2012/Heart_ML_pipeline_final.pkl')\n",
    "ground_truth_data = pd.read_pickle('/home/kiwitn01/master_thesis_hypertension-complications/Case_Control_Cohort_Creation/For_ML_Pipeline/Split_2012/Renal_ML_pipeline_final.pkl')\n",
    "\n",
    "\n",
    "ground_truth_data = ground_truth_data.set_index('medical_record_number')\n",
    "\n",
    "ground_truth_data_main = ground_truth_data[['Complication', 'train_test', 'age_in_days', 'gender', 'race', 'marital_status_code']]\n",
    "ground_truth_data_diag = ground_truth_data[ground_truth_data.columns[pd.Series(ground_truth_data.columns).str.startswith('Diagnosis')]]\n",
    "ground_truth_data_drug = ground_truth_data[ground_truth_data.columns[pd.Series(ground_truth_data.columns).str.startswith('Drug')]]\n",
    "ground_truth_data = ground_truth_data.reset_index('medical_record_number')\n",
    "\n",
    "list_df = [ground_truth_data_main,ground_truth_data_diag,ground_truth_data_drug]\n",
    "\n",
    "from functools import reduce\n",
    "\n",
    "merged_df = reduce(lambda left,right: pd.merge(left, right, how='inner',on='medical_record_number',suffixes=('', '_y')),list_df)\n",
    "merged_df.drop(merged_df.filter(regex='_y$').columns.tolist(),axis=1, inplace=True)\n",
    "\n",
    "merged_df= merged_df.reset_index('medical_record_number')"
   ]
  },
  {
   "cell_type": "code",
   "execution_count": null,
   "metadata": {},
   "outputs": [],
   "source": [
    "merged_df"
   ]
  },
  {
   "cell_type": "code",
   "execution_count": null,
   "metadata": {},
   "outputs": [],
   "source": [
    "#specify which cohort in saving name \n",
    "merged_df.to_pickle('/home/kiwitn01/master_thesis_hypertension-complications/Time_Series/Static_features/Renal_2012_Drug_Diag_Static.pkl')\n"
   ]
  },
  {
   "cell_type": "code",
   "execution_count": null,
   "metadata": {},
   "outputs": [],
   "source": [
    "################################"
   ]
  },
  {
   "cell_type": "code",
   "execution_count": null,
   "metadata": {},
   "outputs": [],
   "source": []
  },
  {
   "cell_type": "code",
   "execution_count": null,
   "metadata": {},
   "outputs": [],
   "source": []
  }
 ],
 "metadata": {
  "kernelspec": {
   "display_name": "Python 3",
   "language": "python",
   "name": "python3"
  },
  "language_info": {
   "codemirror_mode": {
    "name": "ipython",
    "version": 3
   },
   "file_extension": ".py",
   "mimetype": "text/x-python",
   "name": "python",
   "nbconvert_exporter": "python",
   "pygments_lexer": "ipython3",
   "version": "3.7.5"
  }
 },
 "nbformat": 4,
 "nbformat_minor": 2
}
