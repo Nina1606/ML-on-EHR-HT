{
 "cells": [
  {
   "cell_type": "code",
   "execution_count": null,
   "metadata": {},
   "outputs": [],
   "source": [
    "import pandas as pd\n",
    "import pyarrow.parquet as pq\n",
    "import numpy as np\n",
    "import os\n",
    "from functools import reduce \n",
    "import math\n",
    "import pickle"
   ]
  },
  {
   "cell_type": "code",
   "execution_count": null,
   "metadata": {},
   "outputs": [],
   "source": [
    "#Load dataframe HT cohort\n",
    "Cases_HT_beforeOnset2013= pd.read_pickle('/home/kiwitn01/master_thesis_hypertension-complications/Cohort_Extraction/Cases_HT_beforeOnset2013.pkl')\n",
    "Cases_HT_beforeOnset2013 = Cases_HT_beforeOnset2013.rename(columns={\"onset_year\": \"HT_onset_year\"})\n",
    "Cases_HT_beforeOnset2013 = Cases_HT_beforeOnset2013.rename(columns={\"age_in_days\": \"age_in_days_HT_onset\"})\n",
    "\n"
   ]
  },
  {
   "cell_type": "code",
   "execution_count": null,
   "metadata": {},
   "outputs": [],
   "source": [
    "Cases_HT_beforeOnset2013.head()"
   ]
  },
  {
   "cell_type": "code",
   "execution_count": null,
   "metadata": {},
   "outputs": [],
   "source": [
    "#Load Dataframe for demographic data\n",
    "\n",
    "All_Disease_Cases = pd.read_pickle('/home/kiwitn01/master_thesis_hypertension-complications/Cohort_Extraction/Complications/All3_diseases/All/Cases_HT_all3_cohorts_all.pkl')\n",
    "#All_Disease_Cases = pd.read_pickle('/home/kiwitn01/master_thesis_hypertension-complications/Cohort_Extraction/Complications/Cerebrovascular_Diseases/All/Cases_HT_CR_all.pkl')\n",
    "#All_Disease_Cases = pd.read_pickle('/home/kiwitn01/master_thesis_hypertension-complications/Cohort_Extraction/Complications/Heart_Diseases/All/Cases_HT_heart_disease_all.pkl')\n",
    "#All_Disease_Cases = pd.read_pickle('/home/kiwitn01/master_thesis_hypertension-complications/Cohort_Extraction/Complications/Renal_Diseases/All/Cases_HT_renal_disease_all.pkl')\n"
   ]
  },
  {
   "cell_type": "code",
   "execution_count": null,
   "metadata": {},
   "outputs": [],
   "source": [
    "#age in days -> age in days of disease_onset\n",
    "#needed actual age_in_days (current age) -> \n",
    "\n",
    "All_Disease_Cases = All_Disease_Cases.rename(columns={\"age_in_days\": \"age_in_days_complication_onset\"})\n",
    "All_Disease_Cases = All_Disease_Cases.rename(columns={\"onset_year\": \"complication_onset_year\"})\n",
    "All_Disease_Cases['year_of_birth']= All_Disease_Cases['date_of_birth_actual'].dt.year\n"
   ]
  },
  {
   "cell_type": "code",
   "execution_count": null,
   "metadata": {},
   "outputs": [],
   "source": [
    "All_Disease_Cases.head()"
   ]
  },
  {
   "cell_type": "code",
   "execution_count": null,
   "metadata": {},
   "outputs": [],
   "source": [
    "#All_Disease_Cases = All_Disease_Cases.set_index('medical_record_number')\n",
    "\n",
    "#Disease cases before HT_Onset \n",
    "Disease_Cases_before_HT_onset = All_Disease_Cases.loc[All_Disease_Cases['age_in_days_HT_onset'] >= All_Disease_Cases['age_in_days_complication_onset']]\n",
    "\n",
    "#save unique mrns for those candidates that had disease before HT_onset\n",
    "Disease_Cases_before_HT_onset_unique= Disease_Cases_before_HT_onset.groupby(\"medical_record_number\").count()\n",
    "\n",
    "### NEWLY diagnosed - First time disease only cases that have been NEWLY diagnosed with disease after HT_Onset\n",
    "#index those MRNs that have been diagnosed with the disease already before their HT_onset and drop MRNs from entire disease set\n",
    "\n",
    "indexNames= Disease_Cases_before_HT_onset_unique.index\n",
    "All_Disease_Cases.drop(indexNames,inplace = True)\n",
    "\n",
    "#rename cohort\n",
    "Disease_Cases_after_HT_onset = All_Disease_Cases\n",
    "\n",
    "#identify unique mrns that have been diagnosed for the first time with that disease and after their HT_Onset\n",
    "Disease_Cases_after_HT_onset_unique = Disease_Cases_after_HT_onset.groupby(\"medical_record_number\").count()\n",
    "Disease_Cases_after_HT_onset_unique\n"
   ]
  },
  {
   "cell_type": "code",
   "execution_count": null,
   "metadata": {},
   "outputs": [],
   "source": []
  },
  {
   "cell_type": "code",
   "execution_count": null,
   "metadata": {},
   "outputs": [],
   "source": [
    "# new to add further demographical data to the cohorts\n",
    "\n",
    "Disease_Cases_after_HT_onset = Disease_Cases_after_HT_onset.sort_values(by=['medical_record_number','age_in_days_complication_onset'])\n",
    "Disease_Cases_after_HT_onset = Disease_Cases_after_HT_onset.reset_index('medical_record_number')\n",
    "Disease_Cases_after_HT_onset = Disease_Cases_after_HT_onset.drop_duplicates('medical_record_number')\n",
    "Disease_Cases_after_HT_onset = Disease_Cases_after_HT_onset.set_index('medical_record_number')\n",
    "Disease_Cases_after_HT_onset"
   ]
  },
  {
   "cell_type": "code",
   "execution_count": null,
   "metadata": {},
   "outputs": [],
   "source": [
    "Disease_Cases_after_HT_onset_All3 = Disease_Cases_after_HT_onset \n",
    "#Disease_Cases_after_HT_onset_CR = Disease_Cases_after_HT_onset \n",
    "#Disease_Cases_after_HT_onset_Heart = Disease_Cases_after_HT_onset \n",
    "#Disease_Cases_after_HT_onset_Renal = Disease_Cases_after_HT_onset "
   ]
  },
  {
   "cell_type": "code",
   "execution_count": null,
   "metadata": {},
   "outputs": [],
   "source": [
    "#save files\n",
    "Disease_Cases_after_HT_onset_All3.to_pickle('/home/kiwitn01/master_thesis_hypertension-complications/Cohort_Extraction/Demographics/All3_Demographics.pkl')\n",
    "#Disease_Cases_after_HT_onset_CR.to_pickle('/home/kiwitn01/master_thesis_hypertension-complications/Cohort_Extraction/Demographics/CR_Demographics.pkl')\n",
    "#Disease_Cases_after_HT_onset_Heart.to_pickle('/home/kiwitn01/master_thesis_hypertension-complications/Cohort_Extraction/Demographics/Heart_Demographics.pkl')\n",
    "#Disease_Cases_after_HT_onset_Renal.to_pickle('/home/kiwitn01/master_thesis_hypertension-complications/Cohort_Extraction/Demographics/Renal_Demographics.pkl')"
   ]
  },
  {
   "cell_type": "code",
   "execution_count": null,
   "metadata": {},
   "outputs": [],
   "source": []
  },
  {
   "cell_type": "code",
   "execution_count": null,
   "metadata": {},
   "outputs": [],
   "source": [
    "#merge all data into the 61k entire cohort\n",
    "Cases_HT_beforeOnset2013"
   ]
  },
  {
   "cell_type": "code",
   "execution_count": null,
   "metadata": {},
   "outputs": [],
   "source": [
    "Cases_HT_beforeOnset2013 = Cases_HT_beforeOnset2013[['race','gender','marital_status_code', 'HT_onset_year', 'date_of_birth_actual','year_of_birth', 'age_in_days_HT_onset']]\n",
    "Cases_HT_beforeOnset2013.head()"
   ]
  },
  {
   "cell_type": "code",
   "execution_count": null,
   "metadata": {},
   "outputs": [],
   "source": [
    "All3_demo = pd.read_pickle('/home/kiwitn01/master_thesis_hypertension-complications/Cohort_Extraction/Demographics/All3_Demographics.pkl')\n",
    "CR_demo = pd.read_pickle('/home/kiwitn01/master_thesis_hypertension-complications/Cohort_Extraction/Demographics/CR_Demographics.pkl')\n",
    "Heart_demo = pd.read_pickle('/home/kiwitn01/master_thesis_hypertension-complications/Cohort_Extraction/Demographics/Heart_Demographics.pkl')\n",
    "Renal_demo = pd.read_pickle('/home/kiwitn01/master_thesis_hypertension-complications/Cohort_Extraction/Demographics/Renal_Demographics.pkl')\n",
    "\n"
   ]
  },
  {
   "cell_type": "code",
   "execution_count": null,
   "metadata": {},
   "outputs": [],
   "source": [
    "All3_demo.head()"
   ]
  },
  {
   "cell_type": "code",
   "execution_count": null,
   "metadata": {},
   "outputs": [],
   "source": [
    "All3 = All3_demo[['age_in_days_complication_onset','complication_onset_year', 'context_name', 'context_diagnosis_code']]\n",
    "CR = CR_demo[['age_in_days_complication_onset','complication_onset_year', 'context_name', 'context_diagnosis_code']]\n",
    "Heart = Heart_demo[['age_in_days_complication_onset','complication_onset_year', 'context_name', 'context_diagnosis_code']]\n",
    "Renal = Renal_demo[['age_in_days_complication_onset','complication_onset_year', 'context_name', 'context_diagnosis_code']]                "
   ]
  },
  {
   "cell_type": "code",
   "execution_count": null,
   "metadata": {},
   "outputs": [],
   "source": [
    "Merge_1 = Cases_HT_beforeOnset2013.merge(All3, on ='medical_record_number', how='outer', suffixes=('', '_y'), indicator=False)\n",
    "Merge_2 = Merge_1.merge(CR, on ='medical_record_number', how='outer',suffixes=('', '_y') ,indicator=False)\n",
    "Merge_3 = Merge_2.merge(Heart, on ='medical_record_number', how='outer', suffixes=('', '_y'), indicator=False)\n",
    "Final_Merge = Merge_3.merge(Renal, on ='medical_record_number', how='outer', suffixes=('', '_y'), indicator=False)\n",
    "\n",
    "\n",
    "Final_Merge.drop(Final_Merge.filter(regex='_y$').columns.tolist(),axis=1, inplace=True)\n",
    "\n",
    "\n"
   ]
  },
  {
   "cell_type": "code",
   "execution_count": null,
   "metadata": {},
   "outputs": [],
   "source": [
    "Final_Merge.head()"
   ]
  },
  {
   "cell_type": "code",
   "execution_count": null,
   "metadata": {},
   "outputs": [],
   "source": [
    "Final_Merge.loc[Final_Merge['age_in_days_complication_onset'] >0]"
   ]
  },
  {
   "cell_type": "code",
   "execution_count": null,
   "metadata": {},
   "outputs": [],
   "source": [
    "#Final_Merge.to_pickle('/home/kiwitn01/master_thesis_hypertension-complications/Cohort_Extraction/Demographics/Final_Demographics_61k.pkl')\n"
   ]
  },
  {
   "cell_type": "code",
   "execution_count": null,
   "metadata": {},
   "outputs": [],
   "source": [
    "Final_Merge = pd.read_pickle('/home/kiwitn01/master_thesis_hypertension-complications/Cohort_Extraction/Demographics/Final_Demographics_61k.pkl')\n",
    "#Final_Merge= Final_Merge.set_index('medical_record_number')\n"
   ]
  },
  {
   "cell_type": "code",
   "execution_count": null,
   "metadata": {},
   "outputs": [],
   "source": [
    "Final_Merge"
   ]
  },
  {
   "cell_type": "code",
   "execution_count": null,
   "metadata": {},
   "outputs": [],
   "source": [
    "BP_timeseries_data = pd.read_pickle('/home/kiwitn01/master_thesis_hypertension-complications/Time_Series/Fetched_Timeseries/VitalSigns/vitalsign_time_series_all_BP.pkl')\n"
   ]
  },
  {
   "cell_type": "code",
   "execution_count": null,
   "metadata": {},
   "outputs": [],
   "source": [
    "BP_timeseries_data.head(100)"
   ]
  },
  {
   "cell_type": "code",
   "execution_count": null,
   "metadata": {},
   "outputs": [],
   "source": [
    "#Blood pressure feature\n",
    "\n",
    "BP_timeseries_data = pd.read_pickle('/home/kiwitn01/master_thesis_hypertension-complications/Time_Series/Fetched_Timeseries/VitalSigns/vitalsign_time_series_all_BP.pkl')\n",
    "BP_timeseries_data = BP_timeseries_data.loc[BP_timeseries_data['context_name'] == 'EPIC']\n",
    "BP_timeseries_data['age_in_days_measurement'] = (BP_timeseries_data['age_in_days']) + (BP_timeseries_data['time_delta_in_days'])\n",
    "BP_timeseries_data = BP_timeseries_data.set_index('medical_record_number')\n",
    "BP_timeseries_data = BP_timeseries_data.rename(columns={\"age_in_days\": \"age_in_days_HT_onset\"})\n",
    "BP_timeseries_data.head()\n",
    "                                                                                      "
   ]
  },
  {
   "cell_type": "code",
   "execution_count": null,
   "metadata": {},
   "outputs": [],
   "source": [
    "BP_timeseries_data.loc[BP_timeseries_data['time_delta_in_days'] < 0]"
   ]
  },
  {
   "cell_type": "code",
   "execution_count": null,
   "metadata": {},
   "outputs": [],
   "source": [
    "BP_timeseries_data= BP_timeseries_data.set_index('medical_record_number')"
   ]
  },
  {
   "cell_type": "code",
   "execution_count": null,
   "metadata": {},
   "outputs": [],
   "source": [
    "#merge Final Merge with BP_time_Series data\n",
    "\n",
    "BP_data = Final_Merge.merge(BP_timeseries_data, on ='medical_record_number', how='outer', suffixes=('', '_y'), indicator=False)\n",
    "BP_data.drop(BP_data.filter(regex='_y$').columns.tolist(),axis=1, inplace=True)\n",
    "\n"
   ]
  },
  {
   "cell_type": "code",
   "execution_count": null,
   "metadata": {},
   "outputs": [],
   "source": [
    "#save file\n",
    "BP_data.to_pickle('/home/kiwitn01/master_thesis_hypertension-complications/Cohort_Extraction/Demographics/BP_and_demo_data_61k.pkl')\n"
   ]
  },
  {
   "cell_type": "code",
   "execution_count": null,
   "metadata": {},
   "outputs": [],
   "source": [
    "#load file to work with\n",
    "BP_data = pd.read_pickle('/home/kiwitn01/master_thesis_hypertension-complications/Cohort_Extraction/Demographics/BP_and_demo_data_61k.pkl')\n",
    "BP_data"
   ]
  },
  {
   "cell_type": "code",
   "execution_count": null,
   "metadata": {},
   "outputs": [],
   "source": [
    "#check if:\n",
    "# age_in_days_measurement > age_in_days HT onset \n",
    "# age_in_days_measurement < age_in_days_complication\n",
    "\n",
    "\n",
    "BP_timeseries_data = BP_data.loc[((BP_data['age_in_days_measurement']) > (BP_data['age_in_days_HT_onset'])) & ((BP_data['age_in_days_measurement']) < (BP_data['age_in_days_complication_onset']))] \n",
    "BP_timeseries_data                          \n",
    "                                                                                           \n",
    "    "
   ]
  },
  {
   "cell_type": "code",
   "execution_count": null,
   "metadata": {},
   "outputs": [],
   "source": [
    "BP_timeseries_data.loc[BP_timeseries_data['time_delta_in_days'] <= 0]"
   ]
  },
  {
   "cell_type": "code",
   "execution_count": null,
   "metadata": {},
   "outputs": [],
   "source": [
    "# create BP_timeseries_data_30_days_before_event\n",
    "\n",
    "BP_timeseries_data['delta_btw_complication_onset_and_measurement'] = BP_timeseries_data['age_in_days_complication_onset'] - BP_timeseries_data['age_in_days_measurement'] \n",
    "BP_timeseries_data\n"
   ]
  },
  {
   "cell_type": "code",
   "execution_count": null,
   "metadata": {},
   "outputs": [],
   "source": [
    "BP_timeseries_data = BP_timeseries_data.loc[BP_timeseries_data['delta_btw_complication_onset_and_measurement'] > 30]\n",
    "BP_timeseries_data\n"
   ]
  },
  {
   "cell_type": "code",
   "execution_count": null,
   "metadata": {},
   "outputs": [],
   "source": [
    "BP_timeseries_data_30_days_before_event = BP_timeseries_data"
   ]
  },
  {
   "cell_type": "code",
   "execution_count": null,
   "metadata": {},
   "outputs": [],
   "source": [
    "BP_timeseries_data_30_days_before_event.loc[((BP_timeseries_data_30_days_before_event['age_in_days_measurement']) < (BP_timeseries_data_30_days_before_event['age_in_days_complication_onset']))] \n",
    "\n"
   ]
  },
  {
   "cell_type": "code",
   "execution_count": null,
   "metadata": {},
   "outputs": [],
   "source": []
  },
  {
   "cell_type": "code",
   "execution_count": null,
   "metadata": {},
   "outputs": [],
   "source": [
    "#save file\n",
    "#BP_timeseries_data.to_pickle('/home/kiwitn01/master_thesis_hypertension-complications/Time_Series/Fetched_Timeseries/VitalSigns/vitalsign_time_series_extra_BP.pkl')                                                 \n",
    "\n",
    "#BP_timeseries_data_30_days_before_event.to_pickle('/home/kiwitn01/master_thesis_hypertension-complications/Time_Series/Fetched_Timeseries/VitalSigns/vitalsign_time_series_extra_BP_30_days_before_event.pkl')                                                 \n",
    "BP_timeseries_data_30_days_before_event = pd.read_pickle('/home/kiwitn01/master_thesis_hypertension-complications/Time_Series/Fetched_Timeseries/VitalSigns/vitalsign_time_series_extra_BP_30_days_before_event.pkl')                                                 \n"
   ]
  },
  {
   "cell_type": "code",
   "execution_count": null,
   "metadata": {},
   "outputs": [],
   "source": [
    "len (BP_timeseries_data_30_days_before_event)"
   ]
  },
  {
   "cell_type": "code",
   "execution_count": null,
   "metadata": {},
   "outputs": [],
   "source": [
    "BP_timeseries_data_30_days_before_event.loc[BP_timeseries_data_30_days_before_event['age_in_days_measurement'] < (BP_timeseries_data_30_days_before_event['age_in_days_complication_onset'] )]\n",
    "\n"
   ]
  },
  {
   "cell_type": "code",
   "execution_count": null,
   "metadata": {},
   "outputs": [],
   "source": [
    "#creating the aggregated dataset with extra BP data\n",
    "\n",
    "DBP = BP_timeseries_data_30_days_before_event.loc[BP_timeseries_data_30_days_before_event['context_procedure_code'] == 'DBP']\n",
    "SBP = BP_timeseries_data_30_days_before_event.loc[BP_timeseries_data_30_days_before_event['context_procedure_code'] == 'SBP']\n",
    "\n",
    "#preparing DBP\n",
    "DBP['mean_DBP_extra'] = DBP.groupby(['medical_record_number']).mean()['numeric_value']\n",
    "DBP['min_DBP_extra'] = DBP.groupby(['medical_record_number']).min()['numeric_value']\n",
    "DBP['max_DBP_extra'] = DBP.groupby(['medical_record_number']).max()['numeric_value']\n",
    "\n",
    "extra_DBP = DBP.filter(['mean_DBP_extra','min_DBP_extra', 'max_DBP_extra' ], axis =1)\n",
    "extra_DBP= extra_DBP.reset_index('medical_record_number')\n",
    "extra_DBP= extra_DBP.drop_duplicates('medical_record_number')\n",
    "extra_DBP= extra_DBP.set_index('medical_record_number')\n",
    "\n",
    "#preparing SBP\n",
    "SBP['mean_SBP_extra'] = SBP.groupby(['medical_record_number']).mean()['numeric_value']\n",
    "SBP['min_SBP_extra'] = SBP.groupby(['medical_record_number']).min()['numeric_value']\n",
    "SBP['max_SBP_extra'] = SBP.groupby(['medical_record_number']).max()['numeric_value']\n",
    "\n",
    "extra_SBP = SBP.filter(['mean_SBP_extra','min_SBP_extra', 'max_SBP_extra' ], axis =1)\n",
    "extra_SBP= extra_SBP.reset_index('medical_record_number')\n",
    "extra_SBP= extra_SBP.drop_duplicates('medical_record_number')\n",
    "extra_SBP= extra_SBP.set_index('medical_record_number')\n"
   ]
  },
  {
   "cell_type": "code",
   "execution_count": null,
   "metadata": {},
   "outputs": [],
   "source": [
    "print (len (extra_DBP))\n",
    "print (len (extra_SBP))"
   ]
  },
  {
   "cell_type": "code",
   "execution_count": null,
   "metadata": {},
   "outputs": [],
   "source": [
    "extra_DBP_SBP_merge =pd.merge(extra_DBP, extra_SBP, on ='medical_record_number', how='outer')\n",
    "extra_DBP_SBP_merge"
   ]
  },
  {
   "cell_type": "code",
   "execution_count": null,
   "metadata": {},
   "outputs": [],
   "source": [
    "#merge with All_unsupervised\n",
    "unsupervised = pd.read_pickle(\"/home/kiwitn01/master_thesis_hypertension-complications/Feature Extraction/Clean_Unsupervised_Dataframes/All_unsupervised_merged_clean_Diag_no_int.pkl\")\n"
   ]
  },
  {
   "cell_type": "code",
   "execution_count": null,
   "metadata": {},
   "outputs": [],
   "source": [
    "unsupervised.head()"
   ]
  },
  {
   "cell_type": "code",
   "execution_count": null,
   "metadata": {},
   "outputs": [],
   "source": [
    "final_unsupervised_with_extra_BP= pd.merge(unsupervised,extra_DBP_SBP_merge, on ='medical_record_number', how='outer')\n",
    "final_unsupervised_with_extra_BP"
   ]
  },
  {
   "cell_type": "code",
   "execution_count": null,
   "metadata": {},
   "outputs": [],
   "source": [
    "#final_unsupervised_with_extra_BP.to_pickle(\"/home/kiwitn01/master_thesis_hypertension-complications/Feature Extraction/Clean_Unsupervised_Dataframes/All_unsupervised_merged_clean_Diag_no_int_with_extra_BP.pkl\")\n"
   ]
  },
  {
   "cell_type": "code",
   "execution_count": null,
   "metadata": {},
   "outputs": [],
   "source": []
  }
 ],
 "metadata": {
  "kernelspec": {
   "display_name": "Python 3",
   "language": "python",
   "name": "python3"
  },
  "language_info": {
   "codemirror_mode": {
    "name": "ipython",
    "version": 3
   },
   "file_extension": ".py",
   "mimetype": "text/x-python",
   "name": "python",
   "nbconvert_exporter": "python",
   "pygments_lexer": "ipython3",
   "version": "3.7.5"
  }
 },
 "nbformat": 4,
 "nbformat_minor": 2
}
