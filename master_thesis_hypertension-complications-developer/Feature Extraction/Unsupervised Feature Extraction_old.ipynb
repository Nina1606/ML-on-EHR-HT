{
 "cells": [
  {
   "cell_type": "code",
   "execution_count": null,
   "metadata": {},
   "outputs": [],
   "source": [
    "import fiber\n",
    "from fiber.cohort import Cohort\n",
    "from fiber.condition import Patient, MRNs\n",
    "from fiber.condition import Diagnosis\n",
    "from fiber.condition import Measurement, Encounter, Drug, VitalSign\n",
    "from fiber.storage import yaml as fiberyaml\n",
    "import pandas as pd\n",
    "import pyarrow.parquet as pq\n",
    "import numpy as np\n",
    "import os\n",
    "from functools import reduce \n",
    "from fiber.utils import Timer\n",
    "import pickle\n",
    "\n",
    "import math\n",
    "import os\n",
    "import sys\n",
    "from functools import reduce\n",
    "from fiber.storage import yaml as fiberyaml\n",
    "from fiber.utils import Timer\n"
   ]
  },
  {
   "cell_type": "code",
   "execution_count": null,
   "metadata": {},
   "outputs": [],
   "source": [
    "#with 0 threshold \n",
    "Drug = pq.read_table('Parquets/Cases/Consolidated/with_0_threshold/Drug_Cases_Unsupervised_All.parquet').to_pandas()\n",
    "Diagnosis = pq.read_table('Parquets/Cases/Consolidated/with_0_threshold/Diagnosis_Cases_Unsupervised_All.parquet').to_pandas()\n",
    "VitalSign = pq.read_table('Parquets/Cases/Consolidated/with_0_threshold/VitalSign_Cases_Unsupervised_All.parquet').to_pandas()\n",
    "Lab = pq.read_table('Parquets/Cases/Consolidated/with_0_threshold/LabValue_Cases_Unsupervised_All.parquet').to_pandas()\n",
    "Proc = pq.read_table('Parquets/Cases/Consolidated/with_0_threshold/Procedure_Cases_Unsupervised_All.parquet').to_pandas()\n",
    "\n",
    "Combined = pq.read_table('Parquets/Final/with_0_threshold/Merged_Cases_0.parquet').to_pandas()\n"
   ]
  },
  {
   "cell_type": "code",
   "execution_count": null,
   "metadata": {},
   "outputs": [],
   "source": [
    "Combined= Combined.reindex(sorted(Combined.columns), axis=1)"
   ]
  },
  {
   "cell_type": "code",
   "execution_count": null,
   "metadata": {},
   "outputs": [],
   "source": [
    "for col in Combined:\n",
    "    print (col)"
   ]
  },
  {
   "cell_type": "code",
   "execution_count": null,
   "metadata": {},
   "outputs": [],
   "source": [
    "Combined"
   ]
  },
  {
   "cell_type": "code",
   "execution_count": null,
   "metadata": {},
   "outputs": [],
   "source": [
    "Diagnosis"
   ]
  },
  {
   "cell_type": "code",
   "execution_count": null,
   "metadata": {},
   "outputs": [],
   "source": [
    "Drug"
   ]
  },
  {
   "cell_type": "code",
   "execution_count": null,
   "metadata": {},
   "outputs": [],
   "source": [
    "VitalSign"
   ]
  },
  {
   "cell_type": "code",
   "execution_count": null,
   "metadata": {},
   "outputs": [],
   "source": [
    "Lab"
   ]
  },
  {
   "cell_type": "code",
   "execution_count": null,
   "metadata": {},
   "outputs": [],
   "source": [
    "Proc"
   ]
  },
  {
   "cell_type": "code",
   "execution_count": null,
   "metadata": {},
   "outputs": [],
   "source": []
  },
  {
   "cell_type": "code",
   "execution_count": null,
   "metadata": {},
   "outputs": [],
   "source": [
    "Case.loc[Case['Diagnosis__TDS__TIA'] > 0]"
   ]
  },
  {
   "cell_type": "code",
   "execution_count": null,
   "metadata": {},
   "outputs": [],
   "source": [
    "# Reading cohort as dataframe\n",
    "\n",
    "#Case = pd.read_pickle('Unsupervised_Cohorts/Unsupervised_Cohorts_Final/Cases_HT_arterial_disease_unsupervised.pkl')\n",
    "\n",
    "#Case = pd.read_pickle('Unsupervised_Cohorts/Unsupervised_Cohorts_Final/Cases_HT_CR_unsupervised.pkl')\n",
    "#Case = pd.read_pickle('Unsupervised_Cohorts/Unsupervised_Cohorts_Final/Cases_HT_dementia_unsupervised.pkl')\n",
    "#Case = pd.read_pickle('Unsupervised_Cohorts/Unsupervised_Cohorts_Final/Cases_HT_heart_disease_unsupervised.pkl')\n",
    "#Case = pd.read_pickle('Unsupervised_Cohorts/Unsupervised_Cohorts_Final/Cases_HT_hypertensive_disease_unsupervised.pkl')\n",
    "#Case = pd.read_pickle('Unsupervised_Cohorts/Unsupervised_Cohorts_Final/Cases_HT_renal_unsupervised.pkl')\n",
    "\n",
    "#Case\n",
    "\n",
    "# Controls\n",
    "#Control = pd.read_pickle('Unsupervised_Cohorts/Unsupervised_Cohorts_Final/Controls_arterial_disease_unsupervised.pkl')\n",
    "# Control = pd.read_pickle('Unsupervised_Cohorts/Unsupervised_Cohorts_Final/Controls_Cerebrovascular_Diseases_unsupervised.pkl')\n",
    "# Control = pd.read_pickle('Unsupervised_Cohorts/Unsupervised_Cohorts_Final/Controls_dementia_unsupervised.pkl')\n",
    "# Control = pd.read_pickle('Unsupervised_Cohorts/Unsupervised_Cohorts_Final/Controls_Heart_Diseases__unsupervised.pkl')\n",
    "# Control = pd.read_pickle('Unsupervised_Cohorts/Unsupervised_Cohorts_Final/Controls_Hypertensive_Diseases__unsupervised.pkl')\n",
    "# Control = pd.read_pickle('Unsupervised_Cohorts/Unsupervised_Cohorts_Final/Controls_renal__unsupervised.pkl')\n",
    " \n",
    "#Control\n"
   ]
  },
  {
   "cell_type": "code",
   "execution_count": null,
   "metadata": {},
   "outputs": [],
   "source": [
    "# Unsupervised Feature extraction - PIVOT config#"
   ]
  },
  {
   "cell_type": "code",
   "execution_count": null,
   "metadata": {},
   "outputs": [],
   "source": [
    "# CONFIG Drugs\n",
    "DEFAULT_PIVOT_CONFIG = { Drug(): {\n",
    "'window':(-math.inf, 0),'pivot_table_kwargs': {\n",
    "'columns': ['code'],\n",
    "'aggfunc': {'code': 'count' }}, 'threshold': 0.5\n",
    "    }\n",
    "} "
   ]
  },
  {
   "cell_type": "code",
   "execution_count": null,
   "metadata": {},
   "outputs": [],
   "source": [
    "# CONFIG Diagnosis\n",
    "DEFAULT_PIVOT_CONFIG = { Diagnosis(): {\n",
    "'window':(-math.inf, 0), 'pivot_table_kwargs': {\n",
    "'columns': ['code'],\n",
    "'aggfunc': {'code': 'any'} }, 'threshold': 0.5\n",
    "    }\n",
    "} "
   ]
  },
  {
   "cell_type": "code",
   "execution_count": null,
   "metadata": {},
   "outputs": [],
   "source": [
    "# CONFIG VitalSigns\n",
    "DEFAULT_PIVOT_CONFIG = { VitalSign(): {\n",
    "'window':(-math.inf, 0),'pivot_table_kwargs': {\n",
    "'columns': ['code'],\n",
    "'aggfunc': {'numeric_value': ['min', 'median', 'max']}},'threshold': 0.1\n",
    "    }\n",
    "} "
   ]
  },
  {
   "cell_type": "code",
   "execution_count": null,
   "metadata": {},
   "outputs": [],
   "source": [
    "# CONFIG LabValue\n",
    "DEFAULT_PIVOT_CONFIG = { LabValue(): {\n",
    "'window':(-math.inf, 0), 'pivot_table_kwargs': {\n",
    "'columns': ['test_name'],\n",
    "'aggfunc': {'numeric_value': ['min', 'median', 'max']} }, 'threshold': 0.1\n",
    "    }\n",
    "} "
   ]
  },
  {
   "cell_type": "code",
   "execution_count": null,
   "metadata": {},
   "outputs": [],
   "source": [
    "DEFAULT_PIVOT_CONFIG = { Procedure(): {\n",
    "'window':(-math.inf, 0), 'pivot_table_kwargs': {\n",
    "'columns': ['code'],\n",
    "'aggfunc': {'code' : 'count'} }, 'threshold': 0.1\n",
    "    }\n",
    "}\n"
   ]
  },
  {
   "cell_type": "code",
   "execution_count": null,
   "metadata": {},
   "outputs": [],
   "source": []
  },
  {
   "cell_type": "code",
   "execution_count": null,
   "metadata": {},
   "outputs": [],
   "source": [
    "#to try with small sample\n",
    "Case = Case.sample(50) \n",
    "Case\n"
   ]
  },
  {
   "cell_type": "code",
   "execution_count": null,
   "metadata": {},
   "outputs": [],
   "source": [
    "# running through entire cohort in batches and saving each batch as parquet\n",
    "for limit in range (0, len(Case), 50):\n",
    "    print(\"Begin of iteration: \" +  str(limit))\n",
    "    \n",
    "    temp = Case[limit:(limit+50000)]\n",
    "    p_condition = MRNs(temp) #how to create cohort from dataframe\n",
    "    cohort = Cohort(p_condition)\n",
    "    result = cohort.get_pivoted_features(pivot_config=DEFAULT_PIVOT_CONFIG)\n",
    "    \n",
    "    #result.to_parquet('Unsupervised_Features/Cases_Drugs' + str(limit))\n"
   ]
  },
  {
   "cell_type": "code",
   "execution_count": null,
   "metadata": {},
   "outputs": [],
   "source": [
    "result"
   ]
  },
  {
   "cell_type": "code",
   "execution_count": null,
   "metadata": {},
   "outputs": [],
   "source": []
  }
 ],
 "metadata": {
  "kernelspec": {
   "display_name": "Python 3",
   "language": "python",
   "name": "python3"
  },
  "language_info": {
   "codemirror_mode": {
    "name": "ipython",
    "version": 3
   },
   "file_extension": ".py",
   "mimetype": "text/x-python",
   "name": "python",
   "nbconvert_exporter": "python",
   "pygments_lexer": "ipython3",
   "version": "3.7.5"
  }
 },
 "nbformat": 4,
 "nbformat_minor": 2
}
