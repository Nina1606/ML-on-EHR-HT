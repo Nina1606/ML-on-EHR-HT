{
 "cells": [
  {
   "cell_type": "code",
   "execution_count": null,
   "metadata": {},
   "outputs": [],
   "source": [
    "import fiber\n",
    "from fiber.cohort import Cohort\n",
    "from fiber.condition import Patient, MRNs\n",
    "from fiber.condition import Diagnosis\n",
    "from fiber.condition import Measurement, Encounter, Drug, TobaccoUse,LabValue\n",
    "from fiber.storage import yaml as fiberyaml\n",
    "import pandas as pd\n",
    "import pyarrow.parquet as pq\n",
    "import numpy as np\n",
    "import os\n",
    "import matplotlib.pyplot as plt\n",
    "from functools import reduce\n",
    "import json\n",
    "from sklearn.compose import ColumnTransformer\n",
    "from sklearn.preprocessing import StandardScaler\n",
    "from sklearn.impute import SimpleImputer\n",
    "import category_encoders as ce"
   ]
  },
  {
   "cell_type": "code",
   "execution_count": null,
   "metadata": {},
   "outputs": [],
   "source": [
    "import pandas as pd\n",
    "import pyarrow.parquet as pq\n",
    "import numpy as np\n",
    "import os"
   ]
  },
  {
   "cell_type": "code",
   "execution_count": null,
   "metadata": {},
   "outputs": [],
   "source": [
    "# All unsupervised with 0.1 threshold for Proc, Lab, VS and 0.05 for Diagnosis and Drug\n",
    "Diagnosis = pd.read_pickle('Clean_Unsupervised_Dataframes/Diagnosis_Cleaned_no_int.pkl')\n",
    "Drug = pd.read_pickle('Clean_Unsupervised_Dataframes/Drugs_Cleaned.pkl')\n",
    "Proc = pd.read_pickle('Clean_Unsupervised_Dataframes/Procedures_Cleaned.pkl')\n",
    "VS = pd.read_pickle('Clean_Unsupervised_Dataframes/VitalSigns_Cleaned.pkl')\n",
    "Lab = pd.read_pickle('Clean_Unsupervised_Dataframes/LabValues_Cleaned.pkl')"
   ]
  },
  {
   "cell_type": "code",
   "execution_count": null,
   "metadata": {},
   "outputs": [],
   "source": [
    "df_final_extraBP = pd.read_pickle('/home/kiwitn01/master_thesis_hypertension-complications/Feature Extraction/Clean_Unsupervised_Dataframes/All_unsupervised_merged_clean_Diag_no_int_with_extra_BP.pkl')\n",
    "df_final = pd.read_pickle('/home/kiwitn01/master_thesis_hypertension-complications/Feature Extraction/Clean_Unsupervised_Dataframes/All_unsupervised_merged_clean_Diag_no_int.pkl')\n",
    "\n",
    "\n"
   ]
  },
  {
   "cell_type": "code",
   "execution_count": null,
   "metadata": {},
   "outputs": [],
   "source": [
    "for col in df_final:\n",
    "    print (col)"
   ]
  },
  {
   "cell_type": "code",
   "execution_count": null,
   "metadata": {},
   "outputs": [],
   "source": [
    "Proc_check = [col for col in df_final if col.startswith('Drug')]"
   ]
  },
  {
   "cell_type": "code",
   "execution_count": null,
   "metadata": {},
   "outputs": [],
   "source": [
    "Proc_check"
   ]
  },
  {
   "cell_type": "code",
   "execution_count": null,
   "metadata": {},
   "outputs": [],
   "source": [
    "df_final[df_final.columns[pd.Series(df_final.columns).str.startswith('Diagnosis')]]"
   ]
  },
  {
   "cell_type": "code",
   "execution_count": null,
   "metadata": {},
   "outputs": [],
   "source": []
  },
  {
   "cell_type": "code",
   "execution_count": null,
   "metadata": {},
   "outputs": [],
   "source": []
  },
  {
   "cell_type": "code",
   "execution_count": null,
   "metadata": {},
   "outputs": [],
   "source": []
  },
  {
   "cell_type": "code",
   "execution_count": null,
   "metadata": {},
   "outputs": [],
   "source": [
    "#pip install category_encoders"
   ]
  },
  {
   "cell_type": "code",
   "execution_count": null,
   "metadata": {},
   "outputs": [],
   "source": [
    "#This Notebook can be used to clean the unsupervised extracted features.\n",
    "#For numerical features(Lab and Vital Sign) It is dropping features were a certain threshold of patients \n",
    "#do not have this features and is replacing outlier values with NaN so that they can be later imputed \n",
    "\n",
    "#Furthermore are measures for the same type of test out of different Systems like IBEX or EPIC are dropped.\n",
    "#For Categorical Features(Medication Diagnosis and procedures) the user can choose which further features should be dropped,\n",
    "#by entering the feature name.\n",
    "\n"
   ]
  },
  {
   "cell_type": "code",
   "execution_count": null,
   "metadata": {},
   "outputs": [],
   "source": [
    "# Quanitle function\n",
    "\n",
    "# dropping numeric values if over 95% of the patients have nan values \n",
    "# replacing outliers with NaN values so that they can be imputed afterwards\n",
    "\n",
    "def cleanNumFeatures(df,featurename): \n",
    "    feature=featurename\n",
    "    initial_nan=df[feature].isna().sum()\n",
    "    if initial_nan>55000:\n",
    "        return False \n",
    "    print(initial_nan)\n",
    "    test=df \n",
    "    test=test[feature].dropna()\n",
    "    upper_quantile=np.quantile(test.values,0.995,axis=0)\n",
    "    lower_quantile=np.quantile(test.values,0.005,axis=0)\n",
    "    df.loc[df[feature]>=upper_quantile,[feature]]=np.nan\n",
    "    df.loc[df[feature]<=lower_quantile,[feature]]=np.nan\n",
    "    if df[feature].isna().sum()>=55000: \n",
    "        return False\n",
    "    return True\n",
    "\n",
    "col_for_dropping=['age_in_days',\n",
    "'date_of_birth',\n",
    "'month_of_birth',\n",
    "'gender',\n",
    "'religion',\n",
    "'race',\n",
    "'patient_ethnic_group',\n",
    "'deceased_indicator',\n",
    "'mother_account_number',\n",
    "'address_zip',\n",
    "'marital_status_code','HT']"
   ]
  },
  {
   "cell_type": "code",
   "execution_count": null,
   "metadata": {},
   "outputs": [],
   "source": [
    "# All unsupervised with 0.1 threshold for Proc, Lab, VS and 0.05 for Diagnosis and Drug\n",
    "Diagnosis = pq.read_table('Parquets/Cases/Consolidated/with_0.05_threshold/Diagnosis_Cases_Unsupervised_All.parquet').to_pandas()\n",
    "Drug = pq.read_table('Parquets/Cases/Consolidated/with_0.05_threshold/Drug_Cases_Unsupervised_All.parquet').to_pandas()\n",
    "Proc = pq.read_table('Parquets/Cases/Consolidated/with_0.1_threshold/Procedure_Cases_Unsupervised_All.parquet').to_pandas()\n",
    "VS = pq.read_table('Parquets/Cases/Consolidated/with_0.1_threshold/VitalSign_Cases_Unsupervised_All.parquet').to_pandas()\n",
    "Lab = pq.read_table('Parquets/Cases/Consolidated/with_0.1_threshold/LabValue_Cases_Unsupervised_All.parquet').to_pandas()\n"
   ]
  },
  {
   "cell_type": "code",
   "execution_count": null,
   "metadata": {},
   "outputs": [],
   "source": [
    "Diagnosis = pq.read_table('Parquets/Cases/Consolidated/with_0.05_threshold/Diagnosis_Cases_Unsupervised_All.parquet').to_pandas()\n"
   ]
  },
  {
   "cell_type": "code",
   "execution_count": null,
   "metadata": {},
   "outputs": [],
   "source": [
    "Diagnosis"
   ]
  },
  {
   "cell_type": "code",
   "execution_count": null,
   "metadata": {},
   "outputs": [],
   "source": [
    "VS"
   ]
  },
  {
   "cell_type": "code",
   "execution_count": null,
   "metadata": {},
   "outputs": [],
   "source": [
    "#LAB VALUES\n",
    "lab_df = Lab\n",
    "lab_df = lab_df.reset_index('medical_record_number')\n",
    "\n",
    "#drop mrns which will be later added again\n",
    "further_col_drop = []\n",
    "mrn = pd.DataFrame()\n",
    "mrn['medical_record_number'] = lab_df['medical_record_number']\n",
    "lab_df = lab_df.drop('medical_record_number',axis=1)\n",
    "lab_df = lab_df.drop(col_for_dropping,axis=1)\n",
    "lab_df\n",
    "\n",
    "#\n",
    "col_names = lab_df.columns\n",
    "for c in col_names: \n",
    "    print(c)\n",
    "    keep_column = cleanNumFeatures(lab_df,c)\n",
    "    if keep_column == False:\n",
    "        #lab_df=lab_df.drop(c,axis=1)\n",
    "        further_col_drop.append(c)\n",
    "        print('drop')\n",
    "    #print(lab_df)\n",
    "    \n",
    "lab_df= lab_df.drop(further_col_drop, axis=1)\n",
    "lab_df['medical_record_number'] = mrn['medical_record_number']"
   ]
  },
  {
   "cell_type": "code",
   "execution_count": null,
   "metadata": {},
   "outputs": [],
   "source": [
    "lab_df"
   ]
  },
  {
   "cell_type": "code",
   "execution_count": null,
   "metadata": {},
   "outputs": [],
   "source": [
    "#save as pkl\n",
    "#lab_df.to_pickle(\"Clean_Unsupervised_Dataframes/LabValues_Cleaned.pkl\")"
   ]
  },
  {
   "cell_type": "code",
   "execution_count": null,
   "metadata": {},
   "outputs": [],
   "source": [
    "#count and plot NaN values -> number of columns = x-axis, amount of patients missing the values = y-axis\n",
    "d=lab_df.isnull().sum(axis=1) \n",
    "\n",
    "import matplotlib.pyplot as plt\n",
    "plt.hist(x=d, bins=137, color='#0504aa',alpha=0.7, rwidth=0.85)"
   ]
  },
  {
   "cell_type": "code",
   "execution_count": null,
   "metadata": {},
   "outputs": [],
   "source": [
    "lab_df['count_missing']=d\n",
    "lab_df"
   ]
  },
  {
   "cell_type": "code",
   "execution_count": null,
   "metadata": {},
   "outputs": [],
   "source": [
    "lab_df.loc[lab_df['count_missing'] <= 100]"
   ]
  },
  {
   "cell_type": "code",
   "execution_count": null,
   "metadata": {},
   "outputs": [],
   "source": []
  },
  {
   "cell_type": "code",
   "execution_count": null,
   "metadata": {},
   "outputs": [],
   "source": [
    "#Vital Signs"
   ]
  },
  {
   "cell_type": "code",
   "execution_count": null,
   "metadata": {},
   "outputs": [],
   "source": [
    "vital_df = VS\n",
    "vital_df = vital_df.reset_index('medical_record_number')"
   ]
  },
  {
   "cell_type": "code",
   "execution_count": null,
   "metadata": {},
   "outputs": [],
   "source": [
    "further_col_drop=[]\n",
    "mrn=pd.DataFrame()\n",
    "mrn['medical_record_number']=vital_df['medical_record_number']\n",
    "vital_df=vital_df.drop('medical_record_number',axis=1)\n",
    "vital_df=vital_df.drop(col_for_dropping,axis=1)\n",
    "vital_df\n",
    "col_names=vital_df.columns\n",
    "for c in col_names: \n",
    "    print(c)\n",
    "    keep_column=cleanNumFeatures(vital_df,c)\n",
    "    if keep_column==False:\n",
    "        #lab_df=lab_df.drop(c,axis=1)\n",
    "        further_col_drop.append(c)\n",
    "        print('drop')\n",
    "    #print(lab_df)\n",
    "vital_df=vital_df.drop(further_col_drop,axis=1)\n",
    "vital_df['medical_record_number']=mrn['medical_record_number']"
   ]
  },
  {
   "cell_type": "code",
   "execution_count": null,
   "metadata": {},
   "outputs": [],
   "source": [
    "vital_df"
   ]
  },
  {
   "cell_type": "code",
   "execution_count": null,
   "metadata": {},
   "outputs": [],
   "source": [
    "list(vital_df.columns)"
   ]
  },
  {
   "cell_type": "code",
   "execution_count": null,
   "metadata": {},
   "outputs": [],
   "source": [
    "#keep only the EPIC values since all values out of the different values are the same\n",
    "further_col_drop=[\n",
    " 'max__VitalSign__IBEX__(RESP)',\n",
    " 'max__VitalSign__IBEX__(T-O)',\n",
    " 'max__VitalSign__IBEX__(T-T)',\n",
    " 'max__VitalSign__IBEX__DBP',\n",
    " 'max__VitalSign__IBEX__PULSE',\n",
    " 'max__VitalSign__IBEX__PULSE OXIMETRY',\n",
    " 'max__VitalSign__IBEX__SBP',\n",
    " 'max__VitalSign__IBEX__TEMPERATURE',\n",
    " 'max__VitalSign__TDS__(RESP)',\n",
    " 'max__VitalSign__TDS__(T-O)',\n",
    " 'max__VitalSign__TDS__(T-T)', \n",
    " 'max__VitalSign__TDS__DBP',\n",
    " 'max__VitalSign__TDS__SBP',\n",
    " 'median__VitalSign__IBEX__(RESP)',\n",
    " 'median__VitalSign__IBEX__(T-O)',\n",
    " 'median__VitalSign__IBEX__(T-T)',\n",
    " 'median__VitalSign__IBEX__DBP',\n",
    " 'median__VitalSign__IBEX__PULSE',\n",
    " 'median__VitalSign__IBEX__PULSE OXIMETRY',\n",
    " 'median__VitalSign__IBEX__SBP',\n",
    " 'median__VitalSign__IBEX__TEMPERATURE',\n",
    " 'median__VitalSign__TDS__(RESP)',\n",
    " 'median__VitalSign__TDS__(T-O)',\n",
    " 'median__VitalSign__TDS__(T-T)',\n",
    " 'median__VitalSign__TDS__DBP',\n",
    " 'median__VitalSign__TDS__SBP',\n",
    " 'min__VitalSign__IBEX__(RESP)',\n",
    " 'min__VitalSign__IBEX__(T-O)',\n",
    " 'min__VitalSign__IBEX__(T-T)',\n",
    " 'min__VitalSign__IBEX__DBP',\n",
    " 'min__VitalSign__IBEX__PULSE',\n",
    " 'min__VitalSign__IBEX__PULSE OXIMETRY',\n",
    " 'min__VitalSign__IBEX__SBP',\n",
    " 'min__VitalSign__IBEX__TEMPERATURE',\n",
    " 'min__VitalSign__TDS__(RESP)',\n",
    " 'min__VitalSign__TDS__(T-O)',\n",
    " 'min__VitalSign__TDS__(T-T)',\n",
    " 'min__VitalSign__TDS__DBP',\n",
    " 'min__VitalSign__TDS__SBP'\n",
    "]"
   ]
  },
  {
   "cell_type": "code",
   "execution_count": null,
   "metadata": {},
   "outputs": [],
   "source": [
    "vital_df = vital_df.drop(further_col_drop,axis=1)\n"
   ]
  },
  {
   "cell_type": "code",
   "execution_count": null,
   "metadata": {},
   "outputs": [],
   "source": [
    "# check DBP, lower than 50, bigger than 120 \n",
    "vital_df.loc[vital_df['max__VitalSign__EPIC__DBP'] < 50]"
   ]
  },
  {
   "cell_type": "code",
   "execution_count": null,
   "metadata": {},
   "outputs": [],
   "source": [
    "#save VS\n",
    "#vital_df.to_pickle(\"Clean_Unsupervised_Dataframes/VitalSigns_Cleaned.pkl\")"
   ]
  },
  {
   "cell_type": "code",
   "execution_count": null,
   "metadata": {},
   "outputs": [],
   "source": []
  },
  {
   "cell_type": "code",
   "execution_count": null,
   "metadata": {},
   "outputs": [],
   "source": [
    "# Procedures"
   ]
  },
  {
   "cell_type": "code",
   "execution_count": null,
   "metadata": {},
   "outputs": [],
   "source": [
    "proc_df = Proc\n",
    "proc_df = proc_df.reset_index('medical_record_number')"
   ]
  },
  {
   "cell_type": "code",
   "execution_count": null,
   "metadata": {},
   "outputs": [],
   "source": [
    "proc_df "
   ]
  },
  {
   "cell_type": "code",
   "execution_count": null,
   "metadata": {},
   "outputs": [],
   "source": [
    "further_col_drop=[]\n",
    "\n",
    "for c in proc_df.columns: \n",
    "    if ('EPIC' not in c) : \n",
    "        #print(c)\n",
    "        further_col_drop.append(c)\n",
    "        \n",
    "further_col_drop"
   ]
  },
  {
   "cell_type": "code",
   "execution_count": null,
   "metadata": {},
   "outputs": [],
   "source": [
    "further_col_drop = [\n",
    "    'HT',\n",
    " 'age_in_days',\n",
    " 'date_of_birth',\n",
    " 'month_of_birth',\n",
    " 'gender',\n",
    " 'religion',\n",
    " 'race',\n",
    " 'patient_ethnic_group',\n",
    " 'deceased_indicator',\n",
    " 'mother_account_number',\n",
    " 'address_zip',\n",
    " 'marital_status_code',\n",
    " 'Procedure__SYSTEM__MSDW_NOT APPLICABLE',\n",
    " 'Procedure__SYSTEM__MSDW_UNKNOWN',\n",
    " 'Procedure__TDS__(RESP)',\n",
    " 'Procedure__TDS__(T-O)',\n",
    " 'Procedure__TDS__(T-T)', \n",
    " 'Procedure__TDS__DBP',\n",
    " 'Procedure__TDS__SBP',\n",
    " 'Procedure__TDS__PAIN SCORE',\n",
    " 'Procedure__IBEX__WEIGHT',\n",
    "]"
   ]
  },
  {
   "cell_type": "code",
   "execution_count": null,
   "metadata": {},
   "outputs": [],
   "source": [
    "proc_df=proc_df.drop(further_col_drop,axis=1) "
   ]
  },
  {
   "cell_type": "code",
   "execution_count": null,
   "metadata": {},
   "outputs": [],
   "source": [
    "proc_df"
   ]
  },
  {
   "cell_type": "code",
   "execution_count": null,
   "metadata": {},
   "outputs": [],
   "source": [
    "#proc_df.to_pickle(\"Clean_Unsupervised_Dataframes/Procedures_Cleaned.pkl\")"
   ]
  },
  {
   "cell_type": "code",
   "execution_count": null,
   "metadata": {},
   "outputs": [],
   "source": []
  },
  {
   "cell_type": "code",
   "execution_count": null,
   "metadata": {},
   "outputs": [],
   "source": [
    "#Diagnosis"
   ]
  },
  {
   "cell_type": "code",
   "execution_count": null,
   "metadata": {},
   "outputs": [],
   "source": [
    "Diagnosis"
   ]
  },
  {
   "cell_type": "code",
   "execution_count": null,
   "metadata": {},
   "outputs": [],
   "source": [
    "list(Diagnosis)"
   ]
  },
  {
   "cell_type": "code",
   "execution_count": null,
   "metadata": {},
   "outputs": [],
   "source": [
    "diag_df = Diagnosis"
   ]
  },
  {
   "cell_type": "code",
   "execution_count": null,
   "metadata": {},
   "outputs": [],
   "source": [
    "further_col_drop =[\n",
    " 'Diagnosis__SYSTEM__MSDW_NOT APPLICABLE',\n",
    " 'Diagnosis__SYSTEM__MSDW_UNKNOWN',\n",
    " 'HT',\n",
    " 'age_in_days',\n",
    " 'date_of_birth',\n",
    " 'month_of_birth',\n",
    " 'gender',\n",
    " 'religion',\n",
    " 'race',\n",
    " 'patient_ethnic_group',\n",
    " 'deceased_indicator',\n",
    " 'mother_account_number',\n",
    " 'address_zip',\n",
    " 'marital_status_code',\n",
    " 'Diagnosis__EPIC__FOLLOW UP',\n",
    " 'Diagnosis__ICD-10__I10',\n",
    "    'Diagnosis__ICD-9__401.1',\n",
    "    'Diagnosis__ICD-9__401.9',\n",
    "    'Diagnosis__IMO__158530',\n",
    "    'Diagnosis__IMO__154288'\n",
    "]"
   ]
  },
  {
   "cell_type": "code",
   "execution_count": null,
   "metadata": {},
   "outputs": [],
   "source": [
    "diag_df = diag_df.drop(further_col_drop,axis=1)"
   ]
  },
  {
   "cell_type": "code",
   "execution_count": null,
   "metadata": {},
   "outputs": [],
   "source": [
    "diag_df"
   ]
  },
  {
   "cell_type": "code",
   "execution_count": null,
   "metadata": {},
   "outputs": [],
   "source": [
    "# transfer Diag to int\n",
    "diag_df_int = diag_df * 1"
   ]
  },
  {
   "cell_type": "code",
   "execution_count": null,
   "metadata": {},
   "outputs": [],
   "source": [
    "diag_df_int"
   ]
  },
  {
   "cell_type": "code",
   "execution_count": null,
   "metadata": {},
   "outputs": [],
   "source": [
    "#diag_df.to_pickle(\"Clean_Unsupervised_Dataframes/Diagnosis_Cleaned_no_int.pkl\")"
   ]
  },
  {
   "cell_type": "code",
   "execution_count": null,
   "metadata": {},
   "outputs": [],
   "source": []
  },
  {
   "cell_type": "code",
   "execution_count": null,
   "metadata": {},
   "outputs": [],
   "source": [
    "#Drugs"
   ]
  },
  {
   "cell_type": "code",
   "execution_count": null,
   "metadata": {},
   "outputs": [],
   "source": [
    "Drug"
   ]
  },
  {
   "cell_type": "code",
   "execution_count": null,
   "metadata": {},
   "outputs": [],
   "source": [
    "list(Drug)"
   ]
  },
  {
   "cell_type": "code",
   "execution_count": null,
   "metadata": {},
   "outputs": [],
   "source": [
    "further_col_drop = ['HT',\n",
    " 'age_in_days',\n",
    " 'date_of_birth',\n",
    " 'month_of_birth',\n",
    " 'gender',\n",
    " 'religion',\n",
    " 'race',\n",
    " 'patient_ethnic_group',\n",
    " 'deceased_indicator',\n",
    " 'mother_account_number',\n",
    " 'address_zip',\n",
    " 'marital_status_code'\n",
    "]"
   ]
  },
  {
   "cell_type": "code",
   "execution_count": null,
   "metadata": {},
   "outputs": [],
   "source": [
    "drug_df = Drug"
   ]
  },
  {
   "cell_type": "code",
   "execution_count": null,
   "metadata": {},
   "outputs": [],
   "source": [
    "drug_df = drug_df.drop(further_col_drop,axis=1)"
   ]
  },
  {
   "cell_type": "code",
   "execution_count": null,
   "metadata": {},
   "outputs": [],
   "source": [
    "drug_df"
   ]
  },
  {
   "cell_type": "code",
   "execution_count": null,
   "metadata": {},
   "outputs": [],
   "source": [
    "#drug_df.to_pickle(\"Clean_Unsupervised_Dataframes/Drugs_Cleaned.pkl\")"
   ]
  },
  {
   "cell_type": "code",
   "execution_count": null,
   "metadata": {},
   "outputs": [],
   "source": []
  }
 ],
 "metadata": {
  "kernelspec": {
   "display_name": "Python 3",
   "language": "python",
   "name": "python3"
  },
  "language_info": {
   "codemirror_mode": {
    "name": "ipython",
    "version": 3
   },
   "file_extension": ".py",
   "mimetype": "text/x-python",
   "name": "python",
   "nbconvert_exporter": "python",
   "pygments_lexer": "ipython3",
   "version": "3.7.5"
  }
 },
 "nbformat": 4,
 "nbformat_minor": 2
}
